{
  "nbformat": 4,
  "nbformat_minor": 0,
  "metadata": {
    "colab": {
      "provenance": [],
      "authorship_tag": "ABX9TyOtmKq1kYOUqf6SnJ/j9J+P",
      "include_colab_link": true
    },
    "kernelspec": {
      "name": "python3",
      "display_name": "Python 3"
    },
    "language_info": {
      "name": "python"
    }
  },
  "cells": [
    {
      "cell_type": "markdown",
      "metadata": {
        "id": "view-in-github",
        "colab_type": "text"
      },
      "source": [
        "<a href=\"https://colab.research.google.com/github/kishansingh2411/Data_science/blob/main/Statistics_Advanced_1%7C_Assignment.ipynb\" target=\"_parent\"><img src=\"https://colab.research.google.com/assets/colab-badge.svg\" alt=\"Open In Colab\"/></a>"
      ]
    },
    {
      "cell_type": "markdown",
      "source": [
        "1. What is a random variable in probability theory?\n",
        "\n",
        "\n",
        "-->Ans: A set of poosible values from a random experiments.\n",
        "e.g. Tossing a coin then outcomes can be H/T\n",
        "\n",
        "x={\n",
        "  H\n",
        "  T\n",
        "}\n",
        "\n",
        "T = 0\n",
        "H = 1\n",
        "\n",
        "then\n",
        "x ={1,0}\n",
        "\n",
        "Two main types\n",
        "1.  Discrete random variable\n",
        "\n",
        "Takes on a countable set of values.\n",
        "\n",
        "Example:\n",
        "\n",
        "Let\n",
        "𝑋\n",
        "X = number of heads in 3 coin flips.\n",
        "\n",
        "Possible values:0,1,2,3.\n",
        "\n",
        "2 . Continuous random variable\n",
        "\n",
        "Takes on values from a continuum (interval) of real numbers.\n",
        "\n",
        "Example:\n",
        "\n",
        "Let\n",
        "𝑌\n",
        "Y = time (in seconds) it takes a computer to process a file.\n",
        "\n",
        "Possible values: any non-negative real number."
      ],
      "metadata": {
        "id": "qhVRRfyZLgVT"
      }
    },
    {
      "cell_type": "markdown",
      "source": [
        "2. What are the types of random variables?\n",
        "\n",
        "-->Ans : Two main types\n",
        "Discrete random variable\n",
        "\n",
        "Takes on a countable set of values.\n",
        "\n",
        "Example:\n",
        "\n",
        "Let\n",
        "𝑋\n",
        "X = number of heads in 3 coin flips.\n",
        "\n",
        "Possible values: 0,1,2,3.\n",
        "\n",
        "Continuous random variable\n",
        "\n",
        "Takes on values from a continuum (interval) of real numbers.\n",
        "\n",
        "Example:\n",
        "\n",
        "Let\n",
        "𝑌\n",
        "Y = time (in seconds) it takes a computer to process a file.\n",
        "\n",
        "Possible values: any non-negative real number."
      ],
      "metadata": {
        "id": "qyI-YEg3NAzR"
      }
    },
    {
      "cell_type": "code",
      "source": [
        "3. Explain the difference between discrete and continuous distributions.\n",
        "\n",
        "--> Ans: A discrete distribution applies to discrete random variables — variables that can take countable values.\n",
        "\n",
        "Key features\n",
        "Possible values: finite or countably infinite (like 0, 1, 2, 3…).\n",
        "\n",
        "Probability at a point\t= P(X=x)>0 possible\n",
        "example :\n",
        "\n",
        "Rolling a fair die → outcomes: {1, 2, 3, 4, 5, 6}\n",
        "\n",
        "Number of emails received in an hour: {0, 1, 2, …}\n",
        "\n",
        "Visualization: usually shown as bar plots.\n",
        "\n",
        "\n",
        "\n",
        "2. Continuous Distribution\n",
        "A continuous distribution applies to continuous random variables — variables that can take uncountably infinite values over an interval.\n",
        "Key features\n",
        "Possible values: any real number in a range (e.g., all values between 0 and 10).\n",
        "--Probability at a point\tis Always 0\n",
        "Examples:\n",
        "\n",
        "Height of a person (e.g., 170.2 cm)\n",
        "\n",
        "Time to complete a task (e.g., 3.456 seconds)"
      ],
      "metadata": {
        "id": "w0hDXR_PN3Hw"
      },
      "execution_count": null,
      "outputs": []
    },
    {
      "cell_type": "markdown",
      "source": [
        "4. What is a binomial distribution, and how is it used in probability?\n",
        "\n",
        "\n",
        "--> The binomial distribution is a discrete probability distribution that models the number of “successes” in a fixed number of independent trials, where each trial has exactly two possible outcomes: success or failure.\n",
        "e.g\n",
        "“If I flip a coin 10 times, what’s the probability of getting exactly 6 heads?”\n",
        "\n",
        "\n",
        "Conditions for a Binomial Distribution\n",
        "For a random variable X to follow a binomial distribution, these must hold:\n",
        "a. Fixed number of trials (n).\n",
        "b. Each trial has two outcomes (success/failure, yes/no, head/tail).\n",
        "\n",
        "c. Constant probability of success (𝑝) for each trial.\n",
        "d. Trials are independent.\n",
        "\n",
        "usage and example:\n",
        "Medical trials: probability of k patients recovering after a treatment.\n",
        "\n",
        "Sports: probability of a player scoring a certain number of goals.\n",
        "\n",
        "Surveys: probability that exactly k people say “yes” out of n respondents."
      ],
      "metadata": {
        "id": "B33e0Fz4Pa6l"
      }
    },
    {
      "cell_type": "markdown",
      "source": [
        "5. What is the standard normal distribution, and why is it important?\n",
        "\n",
        "-->Ans:  The standard normal distribution is a special case of the normal (Gaussian) distribution that has:\n",
        "\n",
        "Mean = 0\n",
        "\n",
        "Standard deviation = 1\n",
        "\n",
        "It’s a bell-shaped, symmetric probability distribution centered at zero.\n",
        "\n",
        "Z(score) = (x-μ)/𝜎\n",
        "\n",
        "Usage:\n",
        "1. Probability Lookup Tables\n",
        "\n",
        "Statistical tables (z-tables) are based on the standard normal.\n",
        "\n",
        "They let us find probabilities and percentiles without doing integrals.\n",
        "\n",
        "2. in Central Limit Theorem (CLT)\n",
        "\n"
      ],
      "metadata": {
        "id": "GBhNaEeKVGzr"
      }
    },
    {
      "cell_type": "markdown",
      "source": [
        "6: What is the Central Limit Theorem (CLT), and why is it critical in statistics?\n",
        "\n",
        "\n",
        "-->Ans: it states that if we have a population with standard deviation (𝜎) and mean (μ) and take suffuciantly large number of random samples from the population with replacement than the distributions of samples means will be approximately normally distributed.\n",
        "\n",
        "usages:\n",
        "\n",
        "Justifies using the normal distribution\n",
        "\n",
        "Even if the population is not normal (e.g., skewed, uniform), the mean of large samples will be approximately normal.\n",
        "\n",
        "Foundation for many statistical methods\n",
        "\n",
        "Hypothesis tests (z-tests, t-tests)\n",
        "\n",
        "Confidence intervals\n",
        "\n",
        "Control charts in quality control\n",
        "\n",
        "Practical Probability Estimates\n",
        "\n",
        "Lets us use z-tables and normal probability formulas to estimate probabilities for sums/averages.\n",
        "\n",
        "Works with surprisingly small samples\n",
        "\n",
        "In many real-life cases,\n",
        "n≥30 is already “good enough” for a decent approximation."
      ],
      "metadata": {
        "id": "vdYIqjCoXGKy"
      }
    },
    {
      "cell_type": "markdown",
      "source": [
        "Question 7: What is the significance of confidence intervals in statistical analysis?\n",
        "\n",
        "\n",
        "-->ANS: A confidence interval (CI) is a range of values, derived from sample data, that is likely to contain the true population parameter (like a mean or proportion) with a certain level of confidence.\n",
        "\n",
        "It’s a way of quantifying uncertainty in an estimate.\n",
        "\n",
        "Instead of giving just a single estimate (like a sample mean), we give a range:\n",
        "\n",
        "Estimate ± Margin of Error\n",
        "The confidence level (often 90%, 95%, or 99%) tells us how sure we are that this range captures the true parameter.\n",
        "\n",
        "\n",
        "Confidence intervals turn statistical estimates into an informed range that reflects both the data and the uncertainty — making them central to scientific inference.\n"
      ],
      "metadata": {
        "id": "7Zh9YDA0YT78"
      }
    },
    {
      "cell_type": "markdown",
      "source": [
        "Question 8: What is the concept of expected value in a probability distribution?\n",
        "\n",
        "\n",
        "-->ANS:The expected value (also called the mean or mathematical expectation) of a probability distribution is the long-run average outcome of a random variable if the experiment were repeated infinitely many times.\n",
        "\n",
        "It’s essentially the “center of mass” of the probability distribution."
      ],
      "metadata": {
        "id": "VR0bJXP4Yoie"
      }
    },
    {
      "cell_type": "markdown",
      "source": [
        "Question 9: Write a Python program to generate 1000 random numbers from a normal\n",
        "distribution with mean = 50 and standard deviation = 5. Compute its mean and standard\n",
        "deviation using NumPy, and draw a histogram to visualize the distribution."
      ],
      "metadata": {
        "id": "8mdZCSQTZrod"
      }
    },
    {
      "cell_type": "code",
      "source": [
        "import numpy as np\n",
        "import matplotlib.pyplot as plt\n",
        "\n",
        "# Parameters\n",
        "mean = 50\n",
        "std_dev = 5\n",
        "size = 1000\n",
        "\n",
        "# Generate random numbers from a normal distribution\n",
        "data = np.random.normal(loc=mean, scale=std_dev, size=size)\n",
        "\n",
        "# Compute mean and standard deviation\n",
        "calculated_mean = np.mean(data)\n",
        "calculated_std_dev = np.std(data)\n",
        "\n",
        "# Display results\n",
        "print(f\"Calculated Mean: {calculated_mean:.2f}\")\n",
        "print(f\"Calculated Standard Deviation: {calculated_std_dev:.2f}\")\n",
        "\n",
        "# Plot histogram\n",
        "plt.hist(data, bins=30, edgecolor='black', alpha=0.7)\n",
        "plt.title(\"Histogram of Normally Distributed Data\")\n",
        "plt.xlabel(\"Value\")\n",
        "plt.ylabel(\"Frequency\")\n",
        "plt.grid(axis='y', linestyle='--', alpha=0.7)\n",
        "plt.show()\n"
      ],
      "metadata": {
        "colab": {
          "base_uri": "https://localhost:8080/",
          "height": 507
        },
        "id": "2iQ9Y8ueZzTU",
        "outputId": "19ee79c0-fe68-42ff-80a4-4d9eef005ad5"
      },
      "execution_count": 1,
      "outputs": [
        {
          "output_type": "stream",
          "name": "stdout",
          "text": [
            "Calculated Mean: 50.39\n",
            "Calculated Standard Deviation: 5.06\n"
          ]
        },
        {
          "output_type": "display_data",
          "data": {
            "text/plain": [
              "<Figure size 640x480 with 1 Axes>"
            ],
            "image/png": "[encoded data removed]"
          },
          "metadata": {}
        }
      ]
    },
    {
      "cell_type": "markdown",
      "source": [
        "Question 10: You are working as a data analyst for a retail company. The company has\n",
        "collected daily sales data for 2 years and wants you to identify the overall sales trend.\n",
        "daily_sales = [220, 245, 210, 265, 230, 250, 260, 275, 240, 255,\n",
        " 235, 260, 245, 250, 225, 270, 265, 255, 250, 260]\n",
        "● Explain how you would apply the Central Limit Theorem to estimate the average sales\n",
        "with a 95% confidence interval.\n",
        "● Write the Python code to compute the mean sales and its confidence interval."
      ],
      "metadata": {
        "id": "71G81oWAaGjG"
      }
    },
    {
      "cell_type": "code",
      "source": [
        "import numpy as np\n",
        "from scipy import stats\n",
        "\n",
        "# Daily sales data\n",
        "daily_sales = [220, 245, 210, 265, 230, 250, 260, 275, 240, 255,\n",
        "               235, 260, 245, 250, 225, 270, 265, 255, 250, 260]\n",
        "\n",
        "# Convert to NumPy array\n",
        "sales_array = np.array(daily_sales)\n",
        "\n",
        "# Sample statistics\n",
        "mean_sales = np.mean(sales_array)\n",
        "std_sales = np.std(sales_array, ddof=1)  # sample standard deviation\n",
        "n = lelenn(sales_array)\n",
        "\n",
        "# 95% Confidence Interval using CLT\n",
        "# reamining 100-95 = 5 i.e 2,5 % in each tail\n",
        "#corresponding zscore for 2.5% from z-table = 1.96\n",
        "z_value = 1.96\n",
        "margin_of_error = z_value * (std_sales / np.sqrt(n))\n",
        "ci_lower = mean_sales - margin_of_error\n",
        "ci_upper = mean_sales + margin_of_error\n",
        "\n",
        "# Output\n",
        "print(f\"Mean Sales: {mean_sales:.2f}\")\n",
        "print(f\"95% Confidence Interval: ({ci_lower:.2f}, {ci_upper:.2f})\")\n"
      ],
      "metadata": {
        "colab": {
          "base_uri": "https://localhost:8080/"
        },
        "id": "36CIpFOKaUbk",
        "outputId": "c226de0b-b8ff-4baa-8718-c7e0494cf96f"
      },
      "execution_count": 2,
      "outputs": [
        {
          "output_type": "stream",
          "name": "stdout",
          "text": [
            "Mean Sales: 248.25\n",
            "95% Confidence Interval: (240.68, 255.82)\n"
          ]
        }
      ]
    },
    {
      "cell_type": "code",
      "execution_count": null,
      "metadata": {
        "id": "9zkHWLD_LeNN"
      },
      "outputs": [],
      "source": []
    }
  ]
}