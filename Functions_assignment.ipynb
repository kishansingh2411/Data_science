{
  "nbformat": 4,
  "nbformat_minor": 0,
  "metadata": {
    "colab": {
      "provenance": [],
      "authorship_tag": "ABX9TyN3ns1XrKvSVHZ4rw74sBhc",
      "include_colab_link": true
    },
    "kernelspec": {
      "name": "python3",
      "display_name": "Python 3"
    },
    "language_info": {
      "name": "python"
    }
  },
  "cells": [
    {
      "cell_type": "markdown",
      "metadata": {
        "id": "view-in-github",
        "colab_type": "text"
      },
      "source": [
        "<a href=\"https://colab.research.google.com/github/kishansingh2411/Data_science/blob/main/Functions_assignment.ipynb\" target=\"_parent\"><img src=\"https://colab.research.google.com/assets/colab-badge.svg\" alt=\"Open In Colab\"/></a>"
      ]
    },
    {
      "cell_type": "markdown",
      "source": [
        "## **Fuctions **\n",
        "## Theoretical questions"
      ],
      "metadata": {
        "id": "la9IpIGlIJcu"
      }
    },
    {
      "cell_type": "markdown",
      "source": [
        "1. What is the difference between a function and a method in Python?\n",
        "\n",
        "-->> Ans : A function is a standalone block of reusable code defined independently of any class.It operates on data passed to it explicitly.\n",
        "\n",
        "e.g. def sum(x,y):\n",
        "          return x+y\n",
        "  \n",
        "  Where as method is a function which is defined within a class and is associated with an object.\n",
        "\n",
        "  e.g.\n",
        "  class Dog:\n",
        "    def __init__(self, name):\n",
        "        self.name = name\n",
        "\n",
        "    def bark(self):\n",
        "        print(f\"{self.name} says Woof!\")\n",
        "\n",
        "my_dog = Dog(\"Buddy\")\n",
        "my_dog.bark() # Output: Buddy says Woof!"
      ],
      "metadata": {
        "id": "Y8vjrU3SIVgJ"
      }
    },
    {
      "cell_type": "markdown",
      "source": [
        "2. Explain the concept of function arguments and parameters in Python.\n",
        "\n",
        "--> Ans: Parameters are the variables defined within the paranthesis in a function definition. Parameters defines the type and number of inputs a function excepts.\n",
        "Arguments ae the actual values passed to the function when a function is called.\n",
        "\n",
        "e.g.\n",
        "\n",
        "def sum(x,y):\n",
        "  retutn x+y\n",
        "--> here x, y are the parameter or the function sum'\n",
        "\n",
        "sum(3,4)\n",
        "\n",
        "here 3,4 are arguments of function sum."
      ],
      "metadata": {
        "id": "jN3kwnESJuyq"
      }
    },
    {
      "cell_type": "markdown",
      "source": [
        "3.What are the different ways to define and call a function in Python?\n",
        "\n",
        "-->Ans: functions in python are defined y usig key word \"def\". function can be defined with or without parameter based on its usage. Function can either return some value or it can be defined not to return anything but just display/print.\n",
        "Functions can also be defined with some default arguments.\n",
        "\n",
        "e.g.\n",
        "def greet():\n",
        "  print(\"hello everyone\")\n",
        "\n",
        "def sum(x,y):\n",
        "  return x+y\n",
        "\n",
        "def sum1(x,y,z=5):\n",
        "  return x+y+z\n",
        "\n",
        "function can be called based on its definition. if any function doesn't require an argument but just call\n",
        "\n",
        "eg. greet()\n",
        "\n",
        "function which requires some argument as parameter need to be called with arguments otherwi it will give error .\n",
        "\n",
        "sum(3,4)\n",
        "\n",
        "some fuctions that have some default value assigned can be called with our without those argument passed.\n",
        "\n",
        "sum1(3,4) ##will take z=5 as default\n",
        "sum1(3,4,7) ## will take z=7\n"
      ],
      "metadata": {
        "id": "WIagXoM2LHBn"
      }
    },
    {
      "cell_type": "markdown",
      "source": [
        "4. What is the purpose of the `return` statement in a Python function?\n",
        "\n",
        "-->Ans: return is a keyword in python which is used to return something in function definition. When function executes some code as part of its body then the result needs to be sent back out of the function which can be done using return keyword.\n",
        "\n",
        "e.g def sum(x,y):\n",
        "      return x+y\n",
        "  \n"
      ],
      "metadata": {
        "id": "NgCTqQbqNAP_"
      }
    },
    {
      "cell_type": "markdown",
      "source": [
        "5. What are iterators in Python and how do they differ from iterables?\n",
        "\n",
        "-->Ans: Iterable are the sequence type object that support __iter__ method. like list, set, tuple etc.\n",
        "\n",
        "An iterator is an object that contains a countable number of values.\n",
        "\n",
        "An iterator is an object that can be iterated upon, meaning that you can traverse through all the values.\n",
        "\n"
      ],
      "metadata": {
        "id": "V11_ZhU_Ndha"
      }
    },
    {
      "cell_type": "markdown",
      "source": [
        "6. Explain the concept of generators in Python and how they are defined.\n",
        "\n",
        "-->Ans: In python, generator is a special type of iterator that produces a sequence of values on demand rather then sstoring them at once in memory.\n",
        "special keyword is used : yield.\n",
        "This makes them memory-efficient, especially when dealing with large datasets or infinite sequences. Generators are defined using functions and the yield keyword."
      ],
      "metadata": {
        "id": "YJ6YXyWzPd8k"
      }
    },
    {
      "cell_type": "markdown",
      "source": [
        "7. What are the advantages of using generators over regular functions?\n",
        "\n",
        "-->Ans: Generators produces the sequence of result on demand so they are more memory efficient than regular functions which generates all result at one go. while working with large dataset generators can play a good role in making the code memory efficient if we want to use/generate the sequence on demand."
      ],
      "metadata": {
        "id": "ccF2XFV4QK9q"
      }
    },
    {
      "cell_type": "markdown",
      "source": [
        "8. What is a lambda function in Python and when is it typically used?\n",
        "\n",
        "---> Ans: Lambda functions are anonymus functions defined using keyword lambda. Similar to regular function it can take as many parameters as arguments but can have only 1 expression as body. it is useful when we have small ,concise operations, especially when passing functions as arguments to higher-order functions like map, filter, or reduce"
      ],
      "metadata": {
        "id": "9w-XSPA9QqQE"
      }
    },
    {
      "cell_type": "markdown",
      "source": [
        "9. Explain the purpose and usage of the `map()` function in Python.\n",
        "\n",
        "-->Ans: The map() function in Python is a built-in higher-order function that applies a given function to each item of an iterable (e.g., a list, tuple, or set) and returns an iterator that yields the results\n",
        "\n",
        "map takes two argument 1. expression,function 2. iterables like list,tuple etc\n",
        "\n",
        "\n",
        "e.g.\n",
        "def sq(x):\n",
        "  return x*x\n",
        "\n",
        "l=[2,3,4,5,6]\n",
        "ist(map(sq,l))"
      ],
      "metadata": {
        "id": "wzYWJ-59RSV5"
      }
    },
    {
      "cell_type": "markdown",
      "source": [
        "10. What is the difference between `map()`, `reduce()`, and `filter()` functions in Python?\n",
        "\n",
        "-->Ans:All there are built in functions in python. Map is used apply a given function to each item of iterables. like implementing/applying sq function on each element of list using map\n",
        "\n",
        "Reduce is used to fold the element into 1. it is a process in which we reduce a list of item into 1 item ( comulative one)\n",
        "e.g. ind the sum of all element of a list\n",
        "l=[2,3,4,5,6]\n",
        "reduce(lambda x,y:x+y, l) --> will return sum of all element of list l\n",
        "\n",
        "\n",
        "filter is a function that flters out unnecessary items based on the condition provided.\n",
        "eg.\n",
        "l=[\"Apples\", \"Bananas\", \"Milk\", \"Eggs\",\n",
        "\"Bread\"]\n",
        "\n",
        "def start_with_b(item):\n",
        "  return item.startswith('B')\n",
        "\n",
        "b= filter(start_with_b,l)"
      ],
      "metadata": {
        "id": "xjv79M69SFHS"
      }
    },
    {
      "cell_type": "markdown",
      "source": [
        "11. Using pen & Paper write the internal mechanism for sum operation using  reduce function on this given\n",
        "list:[47,11,42,13];\n",
        "![WhatsApp Image 2025-06-21 at 12.48.03 PM.jpeg](data:image/jpeg;base64,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)"
      ],
      "metadata": {
        "id": "RU5CfX_DUw1o"
      }
    },
    {
      "cell_type": "markdown",
      "source": [
        "** Practical questions**"
      ],
      "metadata": {
        "id": "yZg5RlajXBUE"
      }
    },
    {
      "cell_type": "code",
      "source": [
        "#1. Write a Python function that takes a list of numbers as input and returns the sum of all even numbers in\n",
        "#the list.\n",
        "def sum_of_even_nbr(l):\n",
        "  sum=0\n",
        "  for i in l:\n",
        "    if i%2==0:\n",
        "      sum+=i\n",
        "  return sum"
      ],
      "metadata": {
        "id": "uCbXysKTW582"
      },
      "execution_count": 4,
      "outputs": []
    },
    {
      "cell_type": "code",
      "source": [
        "sum_of_even_nbr([1,2,3,4,5,6,7,8,9])"
      ],
      "metadata": {
        "colab": {
          "base_uri": "https://localhost:8080/"
        },
        "id": "aldRzpQeIERb",
        "outputId": "dfdc179a-61ed-438f-fe34-da9c7ddcf26f"
      },
      "execution_count": 5,
      "outputs": [
        {
          "output_type": "execute_result",
          "data": {
            "text/plain": [
              "20"
            ]
          },
          "metadata": {},
          "execution_count": 5
        }
      ]
    },
    {
      "cell_type": "code",
      "source": [
        "##2.Create a Python function that accepts a string and returns the reverse of that string.\n",
        "def reversestr(str):\n",
        "  return str[::-1]"
      ],
      "metadata": {
        "id": "bC6HyVd6bzwv"
      },
      "execution_count": 7,
      "outputs": []
    },
    {
      "cell_type": "code",
      "source": [
        "reversestr(\"Kishan\")"
      ],
      "metadata": {
        "colab": {
          "base_uri": "https://localhost:8080/",
          "height": 36
        },
        "id": "kqz9XitFcHS9",
        "outputId": "47f2d365-8b8e-40b2-c96d-2336c98fb874"
      },
      "execution_count": 9,
      "outputs": [
        {
          "output_type": "execute_result",
          "data": {
            "text/plain": [
              "'nahsiK'"
            ],
            "application/vnd.google.colaboratory.intrinsic+json": {
              "type": "string"
            }
          },
          "metadata": {},
          "execution_count": 9
        }
      ]
    },
    {
      "cell_type": "code",
      "source": [
        "#3. Implement a Python function that takes a list of integers and returns a new list containing the squares of\n",
        "#each number.\n",
        "\n",
        "def square(l):\n",
        "  return map(lambda x:x**2,l)"
      ],
      "metadata": {
        "id": "EMCHoVjmcPjl"
      },
      "execution_count": 13,
      "outputs": []
    },
    {
      "cell_type": "code",
      "source": [
        "list(square([2,3,4,5]))"
      ],
      "metadata": {
        "colab": {
          "base_uri": "https://localhost:8080/"
        },
        "id": "FCTgYEJvckb4",
        "outputId": "7433219f-7eb2-4eae-aac5-c5c9a77e8a93"
      },
      "execution_count": 14,
      "outputs": [
        {
          "output_type": "execute_result",
          "data": {
            "text/plain": [
              "[4, 9, 16, 25]"
            ]
          },
          "metadata": {},
          "execution_count": 14
        }
      ]
    },
    {
      "cell_type": "code",
      "source": [
        "def sq(l):\n",
        "  p=[]\n",
        "  for i in l:\n",
        "    p.append(i**2)\n",
        "  return p\n"
      ],
      "metadata": {
        "id": "_Y9ofRjWcmyR"
      },
      "execution_count": 15,
      "outputs": []
    },
    {
      "cell_type": "code",
      "source": [
        "sq([2,3,4,5,6])"
      ],
      "metadata": {
        "colab": {
          "base_uri": "https://localhost:8080/"
        },
        "id": "9xfws4n8dA8n",
        "outputId": "307d2124-90e8-4a79-e0ed-bbcf91b558d4"
      },
      "execution_count": 16,
      "outputs": [
        {
          "output_type": "execute_result",
          "data": {
            "text/plain": [
              "[4, 9, 16, 25, 36]"
            ]
          },
          "metadata": {},
          "execution_count": 16
        }
      ]
    },
    {
      "cell_type": "code",
      "source": [
        "#4. Write a Python function that checks if a given number is prime or not from 1 to 200.\n",
        "def check_prime(n):\n",
        "  if n<=1:\n",
        "    return False\n",
        "  for i in range(2, int(n**0.5) + 1):\n",
        "        if n % i == 0:\n",
        "            return False  # If divisible by any number other than 1 and itself, it's not prime\n",
        "  return True"
      ],
      "metadata": {
        "id": "HZw82HOIdCg6"
      },
      "execution_count": 21,
      "outputs": []
    },
    {
      "cell_type": "code",
      "source": [
        "check_prime(4)"
      ],
      "metadata": {
        "colab": {
          "base_uri": "https://localhost:8080/"
        },
        "id": "Ih9FLKvpgd7n",
        "outputId": "d891a906-c489-49c5-a950-c1bde9c994e7"
      },
      "execution_count": 23,
      "outputs": [
        {
          "output_type": "execute_result",
          "data": {
            "text/plain": [
              "False"
            ]
          },
          "metadata": {},
          "execution_count": 23
        }
      ]
    },
    {
      "cell_type": "code",
      "source": [
        "for i in range(1,201):\n",
        "  if check_prime(i):\n",
        "    print(i)"
      ],
      "metadata": {
        "colab": {
          "base_uri": "https://localhost:8080/"
        },
        "id": "6g0hK5vkggK5",
        "outputId": "849ce6c5-ca71-42d4-c1b8-b51e46f8ec09"
      },
      "execution_count": 24,
      "outputs": [
        {
          "output_type": "stream",
          "name": "stdout",
          "text": [
            "2\n",
            "3\n",
            "5\n",
            "7\n",
            "11\n",
            "13\n",
            "17\n",
            "19\n",
            "23\n",
            "29\n",
            "31\n",
            "37\n",
            "41\n",
            "43\n",
            "47\n",
            "53\n",
            "59\n",
            "61\n",
            "67\n",
            "71\n",
            "73\n",
            "79\n",
            "83\n",
            "89\n",
            "97\n",
            "101\n",
            "103\n",
            "107\n",
            "109\n",
            "113\n",
            "127\n",
            "131\n",
            "137\n",
            "139\n",
            "149\n",
            "151\n",
            "157\n",
            "163\n",
            "167\n",
            "173\n",
            "179\n",
            "181\n",
            "191\n",
            "193\n",
            "197\n",
            "199\n"
          ]
        }
      ]
    },
    {
      "cell_type": "code",
      "source": [
        "#5 Create an iterator class in Python that generates the Fibonacci sequence up to a specified number of\n",
        "#terms.\n",
        "\n",
        "def fibonacci(n):\n",
        "\n",
        "    l = [0,1]\n",
        "    for i in range(2,n):\n",
        "        l.append(l[-1]+l[-2])\n",
        "    return l\n",
        "\n",
        "fibonacci(7)\n"
      ],
      "metadata": {
        "colab": {
          "base_uri": "https://localhost:8080/"
        },
        "id": "qvjvR3VyhVf8",
        "outputId": "c6c176cb-93ee-42a5-a3b3-37bbf5c89748"
      },
      "execution_count": 26,
      "outputs": [
        {
          "output_type": "execute_result",
          "data": {
            "text/plain": [
              "[0, 1, 1, 2, 3, 5, 8]"
            ]
          },
          "metadata": {},
          "execution_count": 26
        }
      ]
    },
    {
      "cell_type": "code",
      "source": [
        "def fib(n):\n",
        "  l=[0,1]\n",
        "  if n<=2:\n",
        "    return l[:n]\n",
        "  for i in range(2,n):\n",
        "    l.append(l[-1]+l[-2])\n",
        "  return l\n"
      ],
      "metadata": {
        "id": "ZBiPdVO-l_pA"
      },
      "execution_count": 27,
      "outputs": []
    },
    {
      "cell_type": "code",
      "source": [
        "##6.Write a generator function in Python that yields the powers of 2 up to a given exponent.\n",
        "def power_of_two(exponent):\n",
        "  for i in range(1,exponent+1):\n",
        "    yield 2 ** i\n"
      ],
      "metadata": {
        "id": "cTWi_5TUmnq3"
      },
      "execution_count": 31,
      "outputs": []
    },
    {
      "cell_type": "code",
      "source": [
        "result = power_of_two(4)\n",
        "count=0\n",
        "for i  in result:\n",
        "  count+=1\n",
        "  print(f\"2 to the power {count} is {i}\")"
      ],
      "metadata": {
        "colab": {
          "base_uri": "https://localhost:8080/"
        },
        "id": "6RHps3k6nNG-",
        "outputId": "8c1effdc-7c79-4c70-caf0-e8addb6c998a"
      },
      "execution_count": 54,
      "outputs": [
        {
          "output_type": "stream",
          "name": "stdout",
          "text": [
            "2 to the power 1 is 2\n",
            "2 to the power 2 is 4\n",
            "2 to the power 3 is 8\n",
            "2 to the power 4 is 16\n"
          ]
        }
      ]
    },
    {
      "cell_type": "code",
      "source": [
        "##7. Implement a generator function that reads a file line by line and yields each line as a string.\n",
        "##write a sample file\n",
        "with open(\"sample.txt\", \"w\") as f:\n",
        "        f.write(\"This is line 1.\\n\")\n",
        "        f.write(\"This is line 2.\\n\")\n",
        "        f.write(\"This is line 3.\\n\")\n",
        "\n",
        "def read_file_line_by_line(filename):\n",
        "    with open(filename, 'r') as file:\n",
        "        for line in file:\n",
        "            yield line\n",
        "\n",
        "for line in read_file_line_by_line(\"sample.txt\"):\n",
        "  print(line)"
      ],
      "metadata": {
        "colab": {
          "base_uri": "https://localhost:8080/"
        },
        "id": "YG0uYMM6nQ02",
        "outputId": "647eb187-c60d-4666-87c0-38730370073f"
      },
      "execution_count": 58,
      "outputs": [
        {
          "output_type": "stream",
          "name": "stdout",
          "text": [
            "This is line 1.\n",
            "\n",
            "This is line 2.\n",
            "\n",
            "This is line 3.\n",
            "\n"
          ]
        }
      ]
    },
    {
      "cell_type": "code",
      "source": [
        "#8. Use a lambda function in Python to sort a list of tuples based on the second element of each tuple.\n",
        "subject_marks = [('English', 88), ('Science', 90), ('Maths', 97), ('Social sciences', 82)]\n",
        "subject_marks.sort(key=lambda x: x[1])\n",
        "print(subject_marks)"
      ],
      "metadata": {
        "colab": {
          "base_uri": "https://localhost:8080/"
        },
        "id": "ilOOEcPcqosj",
        "outputId": "8c2e8353-a343-4966-abce-230f7000e01a"
      },
      "execution_count": 59,
      "outputs": [
        {
          "output_type": "stream",
          "name": "stdout",
          "text": [
            "[('Social sciences', 82), ('English', 88), ('Science', 90), ('Maths', 97)]\n"
          ]
        }
      ]
    },
    {
      "cell_type": "code",
      "source": [
        "l=[(2,3,4),(5,2,5),(8,9,3),(4,8,7),(0,5,8)]\n",
        "l.sort(key=lambda x:x[1])\n",
        "print(l)"
      ],
      "metadata": {
        "colab": {
          "base_uri": "https://localhost:8080/"
        },
        "id": "qvFv_EsUrvk_",
        "outputId": "54b9991a-9338-4f80-c89a-87190e6e5666"
      },
      "execution_count": 60,
      "outputs": [
        {
          "output_type": "stream",
          "name": "stdout",
          "text": [
            "[(5, 2, 5), (2, 3, 4), (0, 5, 8), (4, 8, 7), (8, 9, 3)]\n"
          ]
        }
      ]
    },
    {
      "cell_type": "code",
      "source": [
        "#9. Write a Python program that uses `map()` to convert a list of temperatures from Celsius to Fahrenheit.\n",
        "l=[38,32,54,22]\n",
        "list(map(lambda x:(9/5)*x+32,l))"
      ],
      "metadata": {
        "colab": {
          "base_uri": "https://localhost:8080/"
        },
        "id": "8j_vJ4WlsA8Y",
        "outputId": "791e7fe1-9575-4326-8dec-a4c78f172c85"
      },
      "execution_count": 61,
      "outputs": [
        {
          "output_type": "execute_result",
          "data": {
            "text/plain": [
              "[100.4, 89.6, 129.2, 71.6]"
            ]
          },
          "metadata": {},
          "execution_count": 61
        }
      ]
    },
    {
      "cell_type": "code",
      "source": [
        "#10. Create a Python program that uses `filter()` to remove all the vowels from a given string.\n",
        "list(filter(lambda x:x.lower() not in ['a','e','i','o','u'],\"kishan\"))\n"
      ],
      "metadata": {
        "colab": {
          "base_uri": "https://localhost:8080/"
        },
        "id": "cT-D2seKsi-g",
        "outputId": "18a429a0-7012-422b-ca06-6535a5124600"
      },
      "execution_count": 64,
      "outputs": [
        {
          "output_type": "execute_result",
          "data": {
            "text/plain": [
              "['k', 's', 'h', 'n']"
            ]
          },
          "metadata": {},
          "execution_count": 64
        }
      ]
    },
    {
      "cell_type": "code",
      "source": [
        "#11) Imagine an accounting routine used in a book shop. It works on a list with sublists, which look like this:\n",
        "\n",
        "\n",
        "\n",
        "\n",
        "\n",
        "\n",
        "\n",
        "#Write a Python program, which returns a list with 2-tuples. Each tuple consists of the order number and the\n",
        "#product of the price per item and the quantity. The product should be increased by 10,- € if the value of the\n",
        "#order is smaller than 100,00 €.\n",
        "\n",
        "#Write a Python program using lambda and map."
      ],
      "metadata": {
        "id": "EcauhuNysyHV"
      },
      "execution_count": null,
      "outputs": []
    },
    {
      "cell_type": "code",
      "source": [
        "orders = [\n",
        "    [\"34587\", \"Learning Python, Mark Lutz\", 4, 40.95],\n",
        "    [\"98762\", \"Programming Python, Mark Lutz\", 5, 56.80],\n",
        "    [\"77226\", \"Head First Python, Paul Barry\", 3, 32.95],\n",
        "    [\"88112\", \"Python Cookbook, David Beazley\", 3, 24.99]\n",
        "]\n",
        "list(map(lambda x:(x[0],x[2]*x[3] if x[2]*x[3] > 100 else x[2]*x[3] +10),orders))"
      ],
      "metadata": {
        "colab": {
          "base_uri": "https://localhost:8080/"
        },
        "id": "Mj8JoByPtXvY",
        "outputId": "8fadad77-03b4-4d87-ac77-2571fc91becf"
      },
      "execution_count": 66,
      "outputs": [
        {
          "output_type": "execute_result",
          "data": {
            "text/plain": [
              "[('34587', 163.8),\n",
              " ('98762', 284.0),\n",
              " ('77226', 108.85000000000001),\n",
              " ('88112', 84.97)]"
            ]
          },
          "metadata": {},
          "execution_count": 66
        }
      ]
    },
    {
      "cell_type": "code",
      "source": [],
      "metadata": {
        "id": "PZUZC5a0uH3f"
      },
      "execution_count": null,
      "outputs": []
    }
  ]
}