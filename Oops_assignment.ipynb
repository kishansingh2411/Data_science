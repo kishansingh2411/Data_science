{
  "nbformat": 4,
  "nbformat_minor": 0,
  "metadata": {
    "colab": {
      "provenance": [],
      "authorship_tag": "ABX9TyM4uKt1eahnOu8ZjNTNUKvQ",
      "include_colab_link": true
    },
    "kernelspec": {
      "name": "python3",
      "display_name": "Python 3"
    },
    "language_info": {
      "name": "python"
    }
  },
  "cells": [
    {
      "cell_type": "markdown",
      "metadata": {
        "id": "view-in-github",
        "colab_type": "text"
      },
      "source": [
        "<a href=\"https://colab.research.google.com/github/kishansingh2411/Data_science/blob/main/Oops_assignment.ipynb\" target=\"_parent\"><img src=\"https://colab.research.google.com/assets/colab-badge.svg\" alt=\"Open In Colab\"/></a>"
      ]
    },
    {
      "cell_type": "markdown",
      "source": [
        "## Theoretical questions"
      ],
      "metadata": {
        "id": "GPJ8AardvAg2"
      }
    },
    {
      "cell_type": "markdown",
      "source": [
        "1. What is Object-Oriented Programming (OOP) ?\n",
        "\n",
        "-->Ans : Object orented programming is a programming paradigm which uses Objecs which contains data and methods, to design applications and computer programs.It contains object, classes and uses properties like polymorphism, encapsulations, inheritance etc."
      ],
      "metadata": {
        "id": "UtBjcK6NvGP1"
      }
    },
    {
      "cell_type": "markdown",
      "source": [
        "2. What is a class in OOPs?\n",
        "\n",
        "-->Ans : Classes are the blue prints/template for creating any object. classes define the structure and behaviour that objects of that class will have."
      ],
      "metadata": {
        "id": "MxS_u2EOwMZg"
      }
    },
    {
      "cell_type": "markdown",
      "source": [
        "3. What is an object in OOP?\n",
        "\n",
        "-->Ans : Objects are the fundamental building block of OOP,which represents the entities with attribute and methods."
      ],
      "metadata": {
        "id": "jbnYcMXYwrLV"
      }
    },
    {
      "cell_type": "markdown",
      "source": [
        "4. What is the difference between abstraction and encapsulation ?\n",
        "\n",
        "-->Ans : abstraction is a key idea in object-oriented programming (OOP) that allows us to describe complicated systems by hiding unneeded details and exposing just essential aspects.\n",
        "Encapsulation is a Python technique for combining data and functions into a single object.\n",
        "Encapsulation is a Python technique for combining data and functions into a\n",
        "single object."
      ],
      "metadata": {
        "id": "w7vItSkuxDBO"
      }
    },
    {
      "cell_type": "markdown",
      "source": [
        "5. What are dunder methods in Python?\n",
        "\n",
        "-->Ans : Dunder methods are  also called magic method which has double underscore at the start and end of the method.These methods allow us to define how\n",
        "instances of your classes behave when they are used with built-in Python functions or operators."
      ],
      "metadata": {
        "id": "SuWlXiZ6y3np"
      }
    },
    {
      "cell_type": "markdown",
      "source": [
        "6. Explain the concept of inheritance in OOP ?\n",
        "\n",
        "-->Ans : Inheritance is a technique through which new classes are created based on exiting classes. Child class or the inherited class contains/inherits all the property(attribute and methods) of the parent class.\n"
      ],
      "metadata": {
        "id": "rH-j_6lCzsZm"
      }
    },
    {
      "cell_type": "markdown",
      "source": [
        "7. What is polymorphism in OOP ?\n",
        "\n",
        "-->Ans : Polymorphism in oop is referred as an object having multiple forms. in OOP, polymorphism refers to an object's capacity to assume several forms.Plymorphism can be achieved using method overloading, metho overriding."
      ],
      "metadata": {
        "id": "izMxycum0Io5"
      }
    },
    {
      "cell_type": "markdown",
      "source": [
        "8. How is encapsulation achieved in Python?\n",
        "\n",
        "-->Ans : encapsulation in python is achieved through the way we use underscore while defining methods/ attribute in class.\n",
        "ttributes or methods prefixed with a double underscore (__) are private.\n",
        "ttributes or methods prefixed with a single underscore (_) are protected and others are public by default."
      ],
      "metadata": {
        "id": "gxzWFXRA1CDx"
      }
    },
    {
      "cell_type": "markdown",
      "source": [
        "9. What is a constructor in Python ?\n",
        "\n",
        "-->Ans : In Python, a constructor is a special method used to initialize the state of an object when it is created from a class. It is automatically invoked when a new instance of a class is generated. __init__\n",
        " method in python\n"
      ],
      "metadata": {
        "id": "IDYyajwO1zeN"
      }
    },
    {
      "cell_type": "markdown",
      "source": [
        "10. What are class and static methods in Python ?\n",
        "\n",
        "-->Ans :  class method is a method that is bound to the class itself, not to an instance of the class. It takes the class as its first argument, conventionally named cls. to access this method we don't need to create any object. we can drectly access using -> class.method\n",
        "\n",
        "A static method is a method that belongs to the class but does not take self (instance) or cls (class) as its first argument. It behaves like a regular function but is logically grouped within the class.\n",
        "without creating any object method of the class can be accessed."
      ],
      "metadata": {
        "id": "z-i7SUq-2o8k"
      }
    },
    {
      "cell_type": "markdown",
      "source": [
        "11. What is method overloading in Python ?\n",
        "\n",
        "--> Ans : method overloading is defined as the methods defined withing same class with same name but differ in their parameters (either in number, type, or order). This allows a single method name to perform different actions depending on the arguments provided during the call."
      ],
      "metadata": {
        "id": "j8Dl5n_v39P5"
      }
    },
    {
      "cell_type": "markdown",
      "source": [
        "12. What is method overriding in OOP ?\n",
        "\n",
        "-->Ans: its a mechanism in oop which allows child or inherited class to define the same method which is already defined in parent class. This allows the subclass to customize or extend the behavior of the inherited method, while maintaining the same method name and signature."
      ],
      "metadata": {
        "id": "euWkc7Zh4gwW"
      }
    },
    {
      "cell_type": "markdown",
      "source": [
        "13. What is a property decorator in Python ?\n",
        "\n",
        "-->Ans : A property decorator in Python, specifically @property, is a built-in decorator that allows methods within a class to be accessed and manipulated as if they were attributes. It provides a way to encapsulate the access to an object's data, allowing for custom logic to be executed when an attribute is read, written, or deleted."
      ],
      "metadata": {
        "id": "nJTdqCj55Bid"
      }
    },
    {
      "cell_type": "markdown",
      "source": [
        "14. Why is polymorphism important in OOP ?\n",
        "\n",
        "-->Ans: Polymrphism helps us to reuse the same method ( same name) with different parameters. It also helps us in over riding the same method between parent and child class. it allows objects of different classes to be treated as objects of a common type, promoting code reusability, flexibility, and maintainability"
      ],
      "metadata": {
        "id": "Zm0HxJ6Z7trW"
      }
    },
    {
      "cell_type": "markdown",
      "source": [
        "15.What is an abstract class in Python ?\n",
        "\n",
        "-->Ans : an abstract class is a class that cannot be instantiated directly and serves as a blueprint or template for other classes. It defines a common interface and potentially some shared implementation for its subclasses. Abstract classes are primarily used to enforce a specific structure or contract for derived classes.\n",
        "defined with abstractmethod from library abc\n",
        "\n",
        "from abc import ABC, abstractmethod\n",
        "\n",
        "class Vehicle(ABC):\n",
        "    @abstractmethod\n",
        "    def start(self):\n",
        "      pass"
      ],
      "metadata": {
        "id": "CGtTYczykCLy"
      }
    },
    {
      "cell_type": "markdown",
      "source": [
        "16.What are the advantages of OOP ?\n",
        "\n",
        "-->Ans: Object-Oriented Programming (OOP) offers several advantages that make it a popular programming paradigm, especially for building complex and scalable software systems. Modularity, reusability, inheritance, encapsulation, polymorphism are some key feature of oops."
      ],
      "metadata": {
        "id": "O2_kbsybk3BC"
      }
    },
    {
      "cell_type": "markdown",
      "source": [
        "17. What is the difference between a class variable and an instance variable?\n",
        "\n",
        "-->Ans :A class variable is shared across all instances of a class and is defined directly in the class body. An instance variable is unique to each object and is defined inside methods using self. Changes to a class variable affect all instances, while changes to an instance variable affect only that specific object. Class variables are good for shared data; instance variables are for per-object data.\n",
        "\n",
        "class Dog:\n",
        "  species = \"abc\"\n",
        "  def __init__(self, name):\n",
        "    self.name=name\n",
        "species is a class variable: all dogs share the same species.\n",
        "\n",
        "dog1=Dog(\"xyz\")\n",
        "dog2=Dog(\"def\")\n",
        "\n",
        "name is an instance variable: each dog has its own name.\n",
        "\n",
        "\n",
        "\n",
        "\n",
        "\n",
        "\n",
        "\n",
        "\n",
        "\n",
        "\n",
        "\n"
      ],
      "metadata": {
        "id": "cxkDtqAMl-Bs"
      }
    },
    {
      "cell_type": "markdown",
      "source": [
        "18. What is multiple inheritance in Python ?\n",
        "\n",
        "-->Ans: multiple inheritance is a feature of oops where 1 subclass can inherit multiple parent class.\n",
        "\n",
        "class Abc:\n",
        "  def __init__(self):\n",
        "    print(\"parent 1 \")\n",
        "\n",
        "class CDE:\n",
        "  def __init__(self):\n",
        "    print(\"parent 2\")\n",
        "\n",
        "class DEF(Abc, CDE):\n",
        "  def __init__(self):\n",
        "    print(\"child class\")"
      ],
      "metadata": {
        "id": "6E6iqEkOnHra"
      }
    },
    {
      "cell_type": "markdown",
      "source": [
        "19. Explain the purpose of ‘’__str__’ and ‘__repr__’ ‘ methods in Python ?\n",
        "\n",
        "-->Ans : in Python, __str__ defines the readable string shown when you print an object, meant for end-users. __repr__ defines the unambiguous string shown in debugging or interactive sessions, meant for developers. Ideally, __repr__ should return a string that can recreate the object. If __str__ is not defined, Python uses __repr__ as a fallback.\n"
      ],
      "metadata": {
        "id": "5lJQ8PreoBoj"
      }
    },
    {
      "cell_type": "markdown",
      "source": [
        "20. What is the significance of the ‘super()’ function in Python ?\n",
        "\n",
        "-->Ans:The super() function in Python is used to call methods from a parent (or superclass) in a subclass. It allows you to extend or customize inherited behavior without hardcoding the parent class name, which makes your code more maintainable and supports multiple inheritance."
      ],
      "metadata": {
        "id": "EG-5F0y198bi"
      }
    },
    {
      "cell_type": "markdown",
      "source": [
        "21. What is the significance of the __del__ method in Python ?\n",
        "\n",
        "-->Ans: The __del__ method in Python is a special method called when an object is about to be destroyed"
      ],
      "metadata": {
        "id": "D_a9-1Nk-IVv"
      }
    },
    {
      "cell_type": "markdown",
      "source": [
        "22. What is the difference between @staticmethod and @classmethod in Python ?\n",
        "\n",
        "-->Ans:In Python, both @staticmethod and @classmethod are decorators used to define special kinds of methods in a class, but they differ in how they access class or instance data.\n",
        "\n",
        "staticethod Does not take self or cls as the first argument.Acts like a regular function inside a class namespace.\n",
        "\n",
        "@classmethod Takes cls (the class itself) as the first argument. Can access or modify class-level data.\n",
        "\n"
      ],
      "metadata": {
        "id": "TZsv9kxT-VTg"
      }
    },
    {
      "cell_type": "markdown",
      "source": [
        "23. How does polymorphism work in Python with inheritance ?\n",
        "\n",
        "-->Ans: in Python, polymorphism with inheritance allows objects of different classes to be treated as objects of a common superclass, while each subclass can provide its own implementation of methods."
      ],
      "metadata": {
        "id": "SgYdbls4-xKk"
      }
    },
    {
      "cell_type": "markdown",
      "source": [
        "24 What is method chaining in Python OOP?\n",
        "\n",
        "-->Ans:Method chaining in Python OOP is a technique where multiple methods are called sequentially on the same object in a single line, using the dot (.) operator."
      ],
      "metadata": {
        "id": "5pE9Se3t_RFz"
      }
    },
    {
      "cell_type": "markdown",
      "source": [
        "25.What is the purpose of the __call__ method in Python ?\n",
        "\n",
        "-->Ans:The __call__ method in Python allows an object to be called like a function.\n",
        "\n",
        "Used in decorators, custom callbacks, function wrappers, and more."
      ],
      "metadata": {
        "id": "qGdrampZ_pv8"
      }
    },
    {
      "cell_type": "code",
      "source": [],
      "metadata": {
        "id": "UMywy1ZFwLCY"
      },
      "execution_count": null,
      "outputs": []
    },
    {
      "cell_type": "markdown",
      "source": [
        "#Practical questions"
      ],
      "metadata": {
        "id": "pNv_yewVAEEK"
      }
    },
    {
      "cell_type": "code",
      "source": [
        "##1. Create a parent class Animal with a method speak() that prints a generic message. Create a child class Dog\n",
        "#that overrides the speak() method to print \"Bark!\".\n",
        "class Animal:\n",
        "    def __init__(self):\n",
        "      print(\"hello this is animal class\")\n",
        "    def speak(self):\n",
        "      print(\"animal sound\")\n",
        "\n",
        "class Dog(Animal):\n",
        "  def __init__(self):\n",
        "    print(\"hello this is dog class\")\n",
        "  def speak(self):\n",
        "    print(\"bark\")\n",
        "\n",
        "dog=Dog()\n",
        "dog.speak()"
      ],
      "metadata": {
        "colab": {
          "base_uri": "https://localhost:8080/"
        },
        "id": "wtwo12ndAHdD",
        "outputId": "0443b681-1870-43d2-9f94-05538eb6f34f"
      },
      "execution_count": 2,
      "outputs": [
        {
          "output_type": "stream",
          "name": "stdout",
          "text": [
            "hello this is dog class\n",
            "bark\n"
          ]
        }
      ]
    },
    {
      "cell_type": "code",
      "source": [
        "#2.  Write a program to create an abstract class Shape with a method area(). Derive classes Circle and Rectangle\n",
        "#from it and implement the area() method in both.\n",
        "from abc import ABC, abstractmethod\n",
        "\n",
        "class shape(ABC):\n",
        "  @abstractmethod\n",
        "  def area(self):\n",
        "    pass\n",
        "class Circle(shape):\n",
        "  def __init__(self, radius):\n",
        "    self.radius=radius\n",
        "  def area(self):\n",
        "    return 3.14*self.radius*self.radius\n",
        "class rectangle(shape):\n",
        "  def __init__(self,l, w):\n",
        "    self.l=l\n",
        "    self.w=w\n",
        "  def area(self):\n",
        "    return self.l*self.w\n",
        "\n",
        "c1=Circle(2)\n",
        "print(c1.area())\n",
        "r1=rectangle(2,3)\n",
        "print(r1.area())\n"
      ],
      "metadata": {
        "colab": {
          "base_uri": "https://localhost:8080/"
        },
        "id": "LMMGgakZAnAR",
        "outputId": "6450ee73-baeb-40dc-f323-35450adf351f"
      },
      "execution_count": 7,
      "outputs": [
        {
          "output_type": "stream",
          "name": "stdout",
          "text": [
            "12.56\n",
            "6\n"
          ]
        }
      ]
    },
    {
      "cell_type": "code",
      "source": [
        "# Implement a multi-level inheritance scenario where a class Vehicle has an attribute type. Derive a class Car\n",
        "#and further derive a class ElectricCar that adds a battery attribute.\n",
        "\n",
        "class Vehicle:\n",
        "  def __init__(self,type):\n",
        "    self.type=type\n",
        "class Car(Vehicle):\n",
        "  def __init__(self,type,model):\n",
        "    super().__init__(type)\n",
        "    self.model=model\n",
        "class ElectricCar(Car):\n",
        "  def __init__(self,type,model,battery):\n",
        "    super().__init__(type,model)\n",
        "    self.battery=battery\n",
        "\n",
        "c1=Car(\"abc\",\"xyz\")\n",
        "print(c1.type)\n",
        "print(c1.model)\n",
        "ev=ElectricCar(\"abc\",\"xyz\",2000)\n",
        "print(ev.type)\n",
        "print(ev.model)\n",
        "print(ev.battery)"
      ],
      "metadata": {
        "colab": {
          "base_uri": "https://localhost:8080/"
        },
        "id": "J0RXFQPXBqbi",
        "outputId": "e4ecc837-95c9-4217-b4c8-34dc8d927ad1"
      },
      "execution_count": 10,
      "outputs": [
        {
          "output_type": "stream",
          "name": "stdout",
          "text": [
            "abc\n",
            "xyz\n",
            "abc\n",
            "xyz\n",
            "2000\n"
          ]
        }
      ]
    },
    {
      "cell_type": "code",
      "source": [
        "#4.  Demonstrate polymorphism by creating a base class Bird with a method fly(). Create two derived classes\n",
        "#Sparrow and Penguin that override the fly() method.\n",
        "\n",
        "class Bird:\n",
        "  def __init__(self,name):\n",
        "    self.name=name\n",
        "  def fly(self):\n",
        "    print(f\"{self.name} fly\")\n",
        "\n",
        "class Sparrow(Bird):\n",
        "  def __init__(self,name):\n",
        "    super().__init__(name)\n",
        "  def fly(self):\n",
        "    print(f\"{self.name} can fly\")\n",
        "\n",
        "class Penguin(Bird):\n",
        "  def __init__(self,name):\n",
        "    super().__init__(name)\n",
        "  def fly(self):\n",
        "    print(f\"{self.name} can't fly\")\n",
        "\n",
        "\n",
        "s1=Sparrow(\"abc\")\n",
        "s1.fly()\n",
        "p1=Penguin(\"xyz\")\n",
        "p1.fly()\n",
        "\n",
        ""
      ],
      "metadata": {
        "colab": {
          "base_uri": "https://localhost:8080/"
        },
        "id": "GNcGrOfLC480",
        "outputId": "0969f22c-a05b-416f-83b4-fea2ad4a1841"
      },
      "execution_count": 11,
      "outputs": [
        {
          "output_type": "stream",
          "name": "stdout",
          "text": [
            "abc can fly\n",
            "xyz can't fly\n"
          ]
        }
      ]
    },
    {
      "cell_type": "code",
      "source": [
        "#5. Write a program to demonstrate encapsulation by creating a class BankAccount with private attributes\n",
        "#balance and methods to deposit, withdraw, and check balance.\n",
        "\n",
        "class BankAccount:\n",
        "  def __init__(self,balance):\n",
        "    self.__balance=balance\n",
        "\n",
        "  def deposit(self,amount):\n",
        "    self.__balance+=amount\n",
        "  def withdraw(self,amount):\n",
        "    if self.__balance>=amount:\n",
        "      self.__balance-=amount\n",
        "  def check_balance(self):\n",
        "    return self.__balance\n",
        "\n",
        "b1=BankAccount(1000)\n",
        "b1.deposit(500)\n",
        "b1.withdraw(200)\n",
        "print(b1.check_balance())"
      ],
      "metadata": {
        "colab": {
          "base_uri": "https://localhost:8080/"
        },
        "id": "y71NDQxfEe8Y",
        "outputId": "76a48a4b-06b1-4342-da8a-aa4768878ddc"
      },
      "execution_count": 12,
      "outputs": [
        {
          "output_type": "stream",
          "name": "stdout",
          "text": [
            "1300\n"
          ]
        }
      ]
    },
    {
      "cell_type": "code",
      "source": [
        "#6. Demonstrate runtime polymorphism using a method play() in a base class Instrument. Derive classes Guitar\n",
        "#and Piano that implement their own version of play().\n",
        "\n",
        "class Instrument:\n",
        "  def __init__(self,name):\n",
        "    self.name=name\n",
        "  def play(self):\n",
        "    print(f\"{self.name} instrument play songs\")\n",
        "\n",
        "class Guitar(Instrument):\n",
        "  def __init__(self,name):\n",
        "    super().__init__(name)\n",
        "  def play(self):\n",
        "    print(f\"{self.name} instrument play guitar songs\")\n",
        "\n",
        "class Piano(Instrument):\n",
        "  def __init__(self,name):\n",
        "    super().__init__(name)\n",
        "  def play(self):\n",
        "    print(f\"{self.name} instrument play Piano songs\")\n",
        "\n",
        "g1=Guitar(\"abc\")\n",
        "g1.play()\n",
        "p1=Piano(\"xyz\")\n",
        "p1.play()"
      ],
      "metadata": {
        "colab": {
          "base_uri": "https://localhost:8080/"
        },
        "id": "XyXVjCGwFKKr",
        "outputId": "66c2a0c9-8fa2-499c-89f4-2105e536df69"
      },
      "execution_count": 13,
      "outputs": [
        {
          "output_type": "stream",
          "name": "stdout",
          "text": [
            "abc instrument play guitar songs\n",
            "xyz instrument play Piano songs\n"
          ]
        }
      ]
    },
    {
      "cell_type": "code",
      "source": [
        "#7.Create a class MathOperations with a class method add_numbers() to add two numbers and a static\n",
        "#method subtract_numbers() to subtract two numbers.\n",
        "class MathOperations:\n",
        "  def __init__(self,a,b):\n",
        "    self.a=a\n",
        "    self.b=b\n",
        "\n",
        "  @classmethod\n",
        "  def add_numbers(cls,a,b):\n",
        "    return a+b\n",
        "  @staticmethod\n",
        "  def subtract_numbers(a,b):\n",
        "    return a-b\n",
        "\n",
        "\n",
        "print(MathOperations.add_numbers(10,20))\n",
        "print(MathOperations.subtract_numbers(10,20))"
      ],
      "metadata": {
        "colab": {
          "base_uri": "https://localhost:8080/"
        },
        "id": "OLUpmuD6Gag-",
        "outputId": "2f8db065-94a4-46ef-9205-94bddbf440a7"
      },
      "execution_count": 16,
      "outputs": [
        {
          "output_type": "stream",
          "name": "stdout",
          "text": [
            "30\n",
            "-10\n"
          ]
        }
      ]
    },
    {
      "cell_type": "code",
      "source": [
        "#8. Implement a class Person with a class method to count the total number of persons created.\n",
        "class Person:\n",
        "  count=0\n",
        "  def __init__(self,name):\n",
        "    self.name=name\n",
        "    Person.count+=1\n",
        "\n",
        "  @classmethod\n",
        "  def get_person_count(cls):\n",
        "    return cls.count\n",
        "\n",
        "p1=Person(\"abc\")\n",
        "p2=Person(\"xyz\")\n",
        "print(Person.get_person_count())\n"
      ],
      "metadata": {
        "colab": {
          "base_uri": "https://localhost:8080/"
        },
        "id": "VeBJfYu4G8id",
        "outputId": "0122b942-7e5c-4852-d4c9-183fa8edb595"
      },
      "execution_count": 2,
      "outputs": [
        {
          "output_type": "stream",
          "name": "stdout",
          "text": [
            "2\n"
          ]
        }
      ]
    },
    {
      "cell_type": "code",
      "source": [
        "#9. Write a class Fraction with attributes numerator and denominator. Override the str method to display the\n",
        "#fraction as \"numerator/denominator\".\n",
        "class Fraction:\n",
        "  def __init__(self, numerator,denominator):\n",
        "    self.numerator=numerator\n",
        "    self.denominator=denominator\n",
        "\n",
        "  def __str__(self):\n",
        "    return f\"{self.numerator}/{self.denominator}\"\n",
        "\n",
        "f1=Fraction(1,2)\n",
        "print(f1)"
      ],
      "metadata": {
        "colab": {
          "base_uri": "https://localhost:8080/"
        },
        "id": "Zx_z1SIFTZTN",
        "outputId": "bab5e5e0-cd98-4e40-9a69-376c1b473f06"
      },
      "execution_count": 3,
      "outputs": [
        {
          "output_type": "stream",
          "name": "stdout",
          "text": [
            "1/2\n"
          ]
        }
      ]
    },
    {
      "cell_type": "code",
      "source": [
        "#10. Demonstrate operator overloading by creating a class Vector and overriding the add method to add two\n",
        "#vectors.\n",
        "\n",
        "class Vector:\n",
        "  def __init__(self,x,y):\n",
        "    self.x=x\n",
        "    self.y=y\n",
        "\n",
        "  def __add__(self,other):\n",
        "    return Vector(self.x+other.x, self.y+other.y)\n",
        "\n",
        "  def __str__(self):\n",
        "    return f\"({self.x},{self.y})\"\n",
        "\n",
        "v1 = Vector(2, 3)\n",
        "v2 = Vector(4, 5)\n",
        "v3 = v1 + v2\n",
        "print(v3)\n"
      ],
      "metadata": {
        "colab": {
          "base_uri": "https://localhost:8080/"
        },
        "id": "cboAlDcJU6oP",
        "outputId": "55bd44e8-e512-4405-c2b2-9a204ec58725"
      },
      "execution_count": 5,
      "outputs": [
        {
          "output_type": "stream",
          "name": "stdout",
          "text": [
            "(6,8)\n"
          ]
        }
      ]
    },
    {
      "cell_type": "code",
      "source": [
        "#11. Create a class Person with attributes name and age. Add a method greet() that prints \"Hello, my name is\n",
        "#{name} and I am {age} years old.\n",
        "class Person:\n",
        "  def __init__(self,name,age):\n",
        "    self.name=name\n",
        "    self.age=age\n",
        "  def greet(self,name,age):\n",
        "    print(f\"Hello, my name is {name} and I am {age} years old.\")\n",
        "\n",
        "p1=Person(\"abc\",20)\n",
        "p1.greet(p1.name,p1.age)"
      ],
      "metadata": {
        "colab": {
          "base_uri": "https://localhost:8080/"
        },
        "id": "4Lg8iS13XH-l",
        "outputId": "5a24363f-4eca-4f75-9b91-5bcd17a0cb4f"
      },
      "execution_count": 6,
      "outputs": [
        {
          "output_type": "stream",
          "name": "stdout",
          "text": [
            "Hello, my name is abc and I am 20 years old.\n"
          ]
        }
      ]
    },
    {
      "cell_type": "code",
      "source": [
        "#12. Implement a class Student with attributes name and grades. Create a method average_grade() to compute\n",
        "#the average of the grades.\n",
        "class Student:\n",
        "  def __init__(self,name,grades):\n",
        "    self.name=name\n",
        "    self.grades=grades\n",
        "  def average_grade(self):\n",
        "    return sum(self.grades)/len(self.grades)\n",
        "\n",
        "s1=Student(\"abc\",[10,20,30,40])\n",
        "print(s1.average_grade())"
      ],
      "metadata": {
        "colab": {
          "base_uri": "https://localhost:8080/"
        },
        "id": "ffOWqAFegXFI",
        "outputId": "7c8a7e5f-7c47-4caf-d58c-c7da84e9b3a3"
      },
      "execution_count": 8,
      "outputs": [
        {
          "output_type": "stream",
          "name": "stdout",
          "text": [
            "25.0\n"
          ]
        }
      ]
    },
    {
      "cell_type": "code",
      "source": [
        "#13. Create a class Rectangle with methods set_dimensions() to set the dimensions and area() to calculate the\n",
        "#area.\n",
        "\n",
        "class Rectangle:\n",
        "  def __init__(self,length,width):\n",
        "    self.length=length\n",
        "    self.width=width\n",
        "\n",
        "  def set_dimensions(self,l,w):\n",
        "    self.length=l\n",
        "    self.width=w\n",
        "\n",
        "  def area(self):\n",
        "    return self.length*self.width\n",
        "\n",
        "r1=Rectangle(10,20)\n",
        "print(r1.area())"
      ],
      "metadata": {
        "colab": {
          "base_uri": "https://localhost:8080/"
        },
        "id": "fCF7kCfGhpGI",
        "outputId": "63c3a52f-71aa-4cf0-fea3-3571a0b50d68"
      },
      "execution_count": 1,
      "outputs": [
        {
          "output_type": "stream",
          "name": "stdout",
          "text": [
            "200\n"
          ]
        }
      ]
    },
    {
      "cell_type": "code",
      "source": [
        "#14. Create a class Employee with a method calculate_salary() that computes the salary based on hours worked\n",
        "#and hourly rate. Create a derived class Manager that adds a bonus to the salary.\n",
        "\n",
        "class Employee:\n",
        "  def __init__(self,name,hours_worked,hourly_rate):\n",
        "    self.name=name\n",
        "    self.hours_worked=hours_worked\n",
        "    self.hourly_rate=hourly_rate\n",
        "\n",
        "  def calculate_salary(self):\n",
        "    return self.hours_worked*self.hourly_rate\n",
        "\n",
        "class Manager(Employee):\n",
        "  def __init__(self, name, hours_worked, hourly_rate,bonus):\n",
        "    super().__init__(name, hours_worked, hourly_rate)\n",
        "    self.bonus=bonus\n",
        "  def calculate_salary(self):\n",
        "    return super().calculate_salary()+self.bonus\n",
        "\n",
        "e1=Employee(\"abc\",100,10)\n",
        "print(e1.calculate_salary())\n",
        "m1=Manager(\"xyz\",100,10,1000)\n",
        "print(m1.calculate_salary())\n"
      ],
      "metadata": {
        "colab": {
          "base_uri": "https://localhost:8080/"
        },
        "id": "yF4xvJLFBRK1",
        "outputId": "bd1109f2-df83-401a-bacc-387e77b22ebe"
      },
      "execution_count": 3,
      "outputs": [
        {
          "output_type": "stream",
          "name": "stdout",
          "text": [
            "1000\n",
            "2000\n"
          ]
        }
      ]
    },
    {
      "cell_type": "code",
      "source": [
        "#15. Create a class Product with attributes name, price, and quantity. Implement a method total_price() that\n",
        "#calculates the total price of the product.\n",
        "\n",
        "class Product:\n",
        "  def __init__(self,name,price,quantity):\n",
        "    self.name=name\n",
        "    self.price=price\n",
        "    self.quantity=quantity\n",
        "\n",
        "  def total_price(self):\n",
        "    return self.price*self.quantity\n",
        "\n",
        "p1=Product(\"abc\",10,2)\n",
        "print(p1.total_price())"
      ],
      "metadata": {
        "colab": {
          "base_uri": "https://localhost:8080/"
        },
        "id": "uIhOHY8lBz-w",
        "outputId": "339ff606-b513-49c1-d78a-ee080d4b16c0"
      },
      "execution_count": 5,
      "outputs": [
        {
          "output_type": "stream",
          "name": "stdout",
          "text": [
            "20\n"
          ]
        }
      ]
    },
    {
      "cell_type": "code",
      "source": [
        "#16. Create a class Animal with an abstract method sound(). Create two derived classes Cow and Sheep that\n",
        "#implement the sound() method.\n",
        "from abc import ABC,abstractclassmethod\n",
        "class Animal:\n",
        "  def __init__(self,name):\n",
        "    self.name=name\n",
        "  @abstractclassmethod\n",
        "  def sound(self):\n",
        "    pass\n",
        "class Cow(Animal):\n",
        "  def __init__(self,name):\n",
        "    super().__init__(name)\n",
        "  def sound(self):\n",
        "    print(f\"{self.name} cow moo\")\n",
        "\n",
        "class Sheep(Animal):\n",
        "  def __init__(self,name):\n",
        "    super().__init__(name)\n",
        "  def sound(self):\n",
        "    print(f\"{self.name} sheep sound\")\n",
        "\n",
        "c1=Cow(\"abc\")\n",
        "c1.sound()\n",
        "s1=Sheep(\"xyz\")\n",
        "s1.sound()\n"
      ],
      "metadata": {
        "colab": {
          "base_uri": "https://localhost:8080/"
        },
        "id": "HE1irechCGMB",
        "outputId": "3071e281-1860-4c76-a618-895a0a5ea2c3"
      },
      "execution_count": 8,
      "outputs": [
        {
          "output_type": "stream",
          "name": "stdout",
          "text": [
            "abc cow moo\n",
            "xyz sheep sound\n"
          ]
        }
      ]
    },
    {
      "cell_type": "code",
      "source": [
        "#17. Create a class Book with attributes title, author, and year_published. Add a method get_book_info() that\n",
        "#returns a formatted string with the book's details.\n",
        "class Book:\n",
        "  def __init__(self,title,author,year_published):\n",
        "    self.title=title\n",
        "    self.author=author\n",
        "    self.year_published=year_published\n",
        "\n",
        "  def get_book_info(self):\n",
        "    return f\"\"\"Title: {self.title}  \\n Author: {self.author} \\n Year Published: {self.year_published}\"\"\"\n",
        "\n",
        "b1=Book(\"abc\",\"author1\",\"2025\")\n",
        "b1.get_book_info()"
      ],
      "metadata": {
        "colab": {
          "base_uri": "https://localhost:8080/",
          "height": 36
        },
        "id": "xUslRJvRCF9x",
        "outputId": "ecb30496-bc2f-42e9-9bab-5f37db2c05a5"
      },
      "execution_count": 15,
      "outputs": [
        {
          "output_type": "execute_result",
          "data": {
            "text/plain": [
              "'Title: abc  \\n Author: author1 \\n Year Published: 2025'"
            ],
            "application/vnd.google.colaboratory.intrinsic+json": {
              "type": "string"
            }
          },
          "metadata": {},
          "execution_count": 15
        }
      ]
    },
    {
      "cell_type": "code",
      "source": [
        "#18. Create a class House with attributes address and price. Create a derived class Mansion that adds an\n",
        "#attribute number_of_rooms\n",
        "\n",
        "class House:\n",
        "  def __init__(self,address,price):\n",
        "    self.address=address\n",
        "    self.price=price\n",
        "class Mansion(House):\n",
        "  def __init__(self,address,price,number_of_rooms):\n",
        "    super().__init__(address,price)\n",
        "    self.number_of_rooms=number_of_rooms\n",
        "\n",
        "m1=Mansion(\"abc\",1000,10)\n",
        "print(m1.address)\n",
        "print(m1.price)\n",
        "print(m1.number_of_rooms)"
      ],
      "metadata": {
        "colab": {
          "base_uri": "https://localhost:8080/"
        },
        "id": "U8T-8PhJDiNM",
        "outputId": "b18ff0fe-e3ba-47a7-951c-d3d722233783"
      },
      "execution_count": 16,
      "outputs": [
        {
          "output_type": "stream",
          "name": "stdout",
          "text": [
            "abc\n",
            "1000\n",
            "10\n"
          ]
        }
      ]
    },
    {
      "cell_type": "code",
      "source": [],
      "metadata": {
        "id": "Q_f21mXNEZYf"
      },
      "execution_count": null,
      "outputs": []
    }
  ]
}
