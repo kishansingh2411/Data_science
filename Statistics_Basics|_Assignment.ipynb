{
  "nbformat": 4,
  "nbformat_minor": 0,
  "metadata": {
    "colab": {
      "provenance": [],
      "authorship_tag": "ABX9TyORsGQu2Vb4QBMO+OUM+mY7",
      "include_colab_link": true
    },
    "kernelspec": {
      "name": "python3",
      "display_name": "Python 3"
    },
    "language_info": {
      "name": "python"
    }
  },
  "cells": [
    {
      "cell_type": "markdown",
      "metadata": {
        "id": "view-in-github",
        "colab_type": "text"
      },
      "source": [
        "<a href=\"https://colab.research.google.com/github/kishansingh2411/Data_science/blob/main/Statistics_Basics%7C_Assignment.ipynb\" target=\"_parent\"><img src=\"https://colab.research.google.com/assets/colab-badge.svg\" alt=\"Open In Colab\"/></a>"
      ]
    },
    {
      "cell_type": "markdown",
      "source": [
        "1.  What is the difference between descriptive statistics and inferential\n",
        "statistics? Explain with examples ?\n",
        "\n",
        "-->Ans: Descriptinve statistics describes and summarizes the main feature of a dataset. it consists of organizing and summarizing the complete data/population.\n",
        "e,g Strike rate of virat kohli -> it has been calculated based on all the matches he played not only the sample.\n",
        "Average height and weight of students in a class.\n",
        "\n",
        "Infrential statistics desecribe the main feature of data baed on the sample i.e the summary or the conclusion has been derived from the sample of dataset and it has been applied over all dataset. sampling is selecting a random data from a large population.\n",
        "e.g. A researcher collects data from a sample of 200 voters in a city and finds that 60% support Candidate A.\n"
      ],
      "metadata": {
        "id": "FOBeN5XYEk8S"
      }
    },
    {
      "cell_type": "markdown",
      "source": [
        "2. What is sampling in statistics? Explain the differences between random\n",
        "and stratified sampling ?\n",
        "\n",
        "-->Ans: Sampling is the process of selecting a subset (sample) from a larger group (population) in order to analyze and make inferences about the whole population.\n",
        "\n",
        "e.g. A researcher collects data from a sample of 200 voters in a city(50lakh population)  and finds that 60% support Candidate A.\n",
        "\n",
        "Random Sampling:\n",
        "Every individual in the population has an equal chance of being selected. The selection is completely by chance.\n",
        "individual is selected in the sample randomly to create a sample from a given population.\n",
        "\n",
        "From a population of 1,000 employees, we randomly select 100 without considering departments, age, or gender.\n",
        "\n",
        "\n",
        "Stratified Sampling:\n",
        "The population is divided into distinct subgroups (called strata) based on shared characteristics (e.g., age, gender, income), and then random samples are taken from each stratum.\n",
        "Divide the population into strata (e.g., male/female)\n",
        "and then Take a proportional random sample from each stratum\n",
        "\n",
        "A company has 600 male and 400 female employees. then we want a sample of 100:\n",
        "\n",
        "we  randomly select 60 males and 40 females (preserving the gender proportion). ( first divide in to group and then randomly select)\n",
        "\n",
        "\n"
      ],
      "metadata": {
        "id": "mke63NCbGhOm"
      }
    },
    {
      "cell_type": "markdown",
      "source": [
        "3. Define mean, median, and mode. Explain why these measures of central\n",
        "tendency are important.\n",
        "\n",
        "\n",
        "-->Ans: Mean is defined as average of a sample.\n",
        "used : when data is evenly distriuted\n",
        "Median is defined as the physical mid point of a sample.\n",
        "Use: Best when data has outliers or is skewed\n",
        "\n",
        "\n",
        "Mode is defined as the values/data having highest frequency/repetition in dataset.\n",
        "\n",
        "Use: Useful for categorical or discrete data, or to identify common occurrences\n",
        "\n",
        "\n",
        "\n",
        "e.g: data = [1,2,3,4,4,4,3,5]\n",
        "Mean = (1+2+3+4+4+4+3+3) / 8 = 24/8 = 3\n",
        "\n",
        "Median =\n",
        "  sort [1,2,3,3,4,4,4,5]\n",
        "  Median = 3+4/2 = 3.5\n",
        "\n",
        "Mode= 4\n",
        "\n",
        "Measures of central tendency describe the center or typical value of a dataset."
      ],
      "metadata": {
        "id": "ZAawPGJ1HnNV"
      }
    },
    {
      "cell_type": "markdown",
      "source": [
        "4. Explain skewness and kurtosis. What does a positive skew imply about the\n",
        "data?\n",
        "\n",
        "\n",
        "-->Ans: kewness measures the asymmetry of a data distribution. If data is symmetrical, skewness = 0\n",
        "If data is asymmetrical, skewness ≠ 0\n",
        "\n",
        "\n",
        "Kurtosis measures the \"tailedness\" or peakedness of a distribution — i.e., how extreme the outliers are.\n",
        "\n",
        "\n",
        "\n"
      ],
      "metadata": {
        "id": "YE7DpSn3JADf"
      }
    },
    {
      "cell_type": "code",
      "execution_count": 5,
      "metadata": {
        "colab": {
          "base_uri": "https://localhost:8080/"
        },
        "id": "FsKh-UMKEBM6",
        "outputId": "7b81c64c-899e-453c-dee1-a1baf617d4e3"
      },
      "outputs": [
        {
          "output_type": "stream",
          "name": "stdout",
          "text": [
            "Mean: 19.6\n",
            "Median: 19.0\n",
            "Mode: ModeResult(mode=np.int64(12), count=np.int64(3))\n"
          ]
        }
      ],
      "source": [
        "## 5. Implement a Python program to compute the mean, median, and mode of\n",
        "#a given list of numbers.\n",
        "numbers = [12, 15, 12, 18, 19, 12, 20, 22, 19, 19, 24, 24, 24, 26, 28]\n",
        "\n",
        "import numpy as np\n",
        "from scipy import stats\n",
        "\n",
        "mean = np.mean(numbers)\n",
        "median = np.median(numbers)\n",
        "mode = stats.mode(numbers)\n",
        "\n",
        "\n",
        "print(\"Mean:\", mean)\n",
        "print(\"Median:\", median)\n",
        "print(\"Mode:\", mode)"
      ]
    },
    {
      "cell_type": "code",
      "source": [
        "#6 Compute the covariance and correlation coefficient between the following\n",
        "#two datasets provided as lists in Python:\n",
        "list_x = [10, 20, 30, 40, 50]\n",
        "list_y = [15, 25, 35, 45, 60]\n",
        "\n",
        "import numpy as np\n",
        "\n",
        "x = np.array(list_x)\n",
        "y = np.array(list_y)\n",
        "\n",
        "cov_matrix = np.cov(x, y, bias=True)  # bias=True gives population covariance\n",
        "\n",
        "# Covariance value\n",
        "cov_xy = cov_matrix[0, 1]\n",
        "\n",
        "# Correlation coefficient\n",
        "correlation = np.corrcoef(x, y)[0, 1]\n",
        "\n",
        "print(f\"Covariance: {cov_xy}\")\n",
        "print(f\"Correlation Coefficient: {correlation}\")\n"
      ],
      "metadata": {
        "colab": {
          "base_uri": "https://localhost:8080/"
        },
        "id": "QnYhyJPhJftZ",
        "outputId": "a8b132cd-b919-4651-9577-4ea85aa7066f"
      },
      "execution_count": 6,
      "outputs": [
        {
          "output_type": "stream",
          "name": "stdout",
          "text": [
            "Covariance: 220.0\n",
            "Correlation Coefficient: 0.995893206467704\n"
          ]
        }
      ]
    },
    {
      "cell_type": "code",
      "source": [
        "# 7. Write a Python script to draw a boxplot for the following numeric list and\n",
        "#identify its outliers. Explain the result:\n",
        "import numpy as np\n",
        "import seaborn as sns\n",
        "data = [12, 14, 14, 15, 18, 19, 19, 21, 22, 22, 23, 23, 24, 26, 29, 35]\n",
        "sns.boxplot(data)\n",
        "\n",
        "## it has one outlier at 35 .\n",
        "\n",
        "# Identify outliers manually\n",
        "q1 = np.percentile(data, 25)\n",
        "q3 = np.percentile(data, 75)\n",
        "iqr = q3 - q1\n",
        "\n",
        "lower_fense = q1 - 1.5 * iqr\n",
        "upper_fense = q3 + 1.5 * iqr\n",
        "\n",
        "outliers = [x for x in data if x < lower_fense or x > upper_fense]\n",
        "\n",
        "print(f\"Q1 = {q1}\")\n",
        "print(f\"Q3 = {q3}\")\n",
        "print(f\"IQR = {iqr}\")\n",
        "print(f\"Lower bound = {lower_fense}\")\n",
        "print(f\"Upper bound = {upper_fense}\")\n",
        "print(f\"Outliers = {outliers}\")\n"
      ],
      "metadata": {
        "colab": {
          "base_uri": "https://localhost:8080/",
          "height": 515
        },
        "id": "zU6epjYZKsUD",
        "outputId": "6626ca96-e804-43fe-fc62-43f29c9ce34e"
      },
      "execution_count": 8,
      "outputs": [
        {
          "output_type": "stream",
          "name": "stdout",
          "text": [
            "Q1 = 17.25\n",
            "Q3 = 23.25\n",
            "IQR = 6.0\n",
            "Lower bound = 8.25\n",
            "Upper bound = 32.25\n",
            "Outliers = [35]\n"
          ]
        },
        {
          "output_type": "display_data",
          "data": {
            "text/plain": [
              "<Figure size 640x480 with 1 Axes>"
            ],
            "image/png": "[encoded data removed]"
          },
          "metadata": {}
        }
      ]
    },
    {
      "cell_type": "code",
      "source": [
        "## 8. You are working as a data analyst in an e-commerce company. The\n",
        "#marketing team wants to know if there is a relationship between advertising spend and\n",
        "#daily sales.\n",
        "#● Explain how you would use covariance and correlation to explore this\n",
        "#relationship.\n",
        "#● Write Python code to compute the correlation between the two lists:\n",
        "advertising_spend = [200, 250, 300, 400, 500]\n",
        "daily_sales = [2200, 2450, 2750, 3200, 4000]\n",
        "\n",
        "## -->Ans: Covariance and correlation helps us in deciding the relationship between spend and sales. with positive correlation it means increate in spend increases sales or vice versa. and negative correlation means increase in spensd decreases the sales.\n",
        "\n",
        "import numpy as np\n",
        "# Convert to numpy arrays\n",
        "x = np.array(advertising_spend)\n",
        "y = np.array(daily_sales)\n",
        "\n",
        "# Compute Pearson correlation coefficient\n",
        "correlation = np.corrcoef(x, y)[0, 1]\n",
        "\n",
        "print(f\"Correlation coefficient: {correlation:.4f}\")"
      ],
      "metadata": {
        "colab": {
          "base_uri": "https://localhost:8080/"
        },
        "id": "xJnf83WALApN",
        "outputId": "5a56df8e-c471-4201-ee5a-4517736806ea"
      },
      "execution_count": 10,
      "outputs": [
        {
          "output_type": "stream",
          "name": "stdout",
          "text": [
            "Correlation coefficient: 0.9936\n"
          ]
        }
      ]
    },
    {
      "cell_type": "code",
      "source": [
        "## 9. Your team has collected customer satisfaction survey data on a scale of\n",
        "#1-10 and wants to understand its distribution before launching a new product.\n",
        "#● Explain which summary statistics and visualizations (e.g. mean, standard\n",
        "#deviation, histogram) you’d use.\n",
        "#● Write Python code to create a histogram using Matplotlib for the survey data:\n",
        "survey_scores = [7, 8, 5, 9, 6, 7, 8, 9, 10, 4, 7, 6, 9, 8, 7]\n",
        "\n",
        "import matplotlib.pyplot as plt\n",
        "plt.hist(survey_scores)"
      ],
      "metadata": {
        "colab": {
          "base_uri": "https://localhost:8080/",
          "height": 482
        },
        "id": "1dSNwwSIN5y_",
        "outputId": "7faff13a-b957-4205-958c-b16c3b700520"
      },
      "execution_count": 11,
      "outputs": [
        {
          "output_type": "execute_result",
          "data": {
            "text/plain": [
              "(array([1., 1., 0., 2., 0., 4., 3., 0., 3., 1.]),\n",
              " array([ 4. ,  4.6,  5.2,  5.8,  6.4,  7. ,  7.6,  8.2,  8.8,  9.4, 10. ]),\n",
              " <BarContainer object of 10 artists>)"
            ]
          },
          "metadata": {},
          "execution_count": 11
        },
        {
          "output_type": "display_data",
          "data": {
            "text/plain": [
              "<Figure size 640x480 with 1 Axes>"
            ],
            "image/png": "[encoded data removed]"
          },
          "metadata": {}
        }
      ]
    },
    {
      "cell_type": "markdown",
      "source": [
        "Mean (Average)\n",
        "Indicates the overall satisfaction level.\n",
        "\n",
        "If the mean is high (e.g., > 7), most customers are generally satisfied.\n",
        "\n",
        "Median\n",
        "Useful if the data is skewed or has outliers.\n",
        "\n",
        "Shows the midpoint of satisfaction responses.\n",
        "\n",
        "Mode\n",
        "Reveals the most common satisfaction score.\n",
        "\n",
        "Helpful to know if most users are giving a specific rating (e.g., many 8s or 9s).\n",
        "\n",
        "Standard Deviation\n",
        "Measures spread or consistency of satisfaction.\n",
        "\n"
      ],
      "metadata": {
        "id": "RJKwhaOyOoCc"
      }
    },
    {
      "cell_type": "code",
      "source": [],
      "metadata": {
        "id": "xMzpqwFvOMBH"
      },
      "execution_count": null,
      "outputs": []
    }
  ]
}