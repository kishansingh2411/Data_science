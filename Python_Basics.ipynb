{
  "nbformat": 4,
  "nbformat_minor": 0,
  "metadata": {
    "colab": {
      "provenance": []
    },
    "kernelspec": {
      "name": "python3",
      "display_name": "Python 3"
    },
    "language_info": {
      "name": "python"
    }
  },
  "cells": [
    {
      "cell_type": "markdown",
      "source": [
        "#Python Basics"
      ],
      "metadata": {
        "id": "1FoMV1j32beF"
      }
    },
    {
      "cell_type": "code",
      "source": [],
      "metadata": {
        "id": "CJ_ZMOnf2gNn"
      },
      "execution_count": null,
      "outputs": []
    },
    {
      "cell_type": "markdown",
      "source": [
        "1. What is python and why is it popular ?\n",
        "-> Ans : Python is a high level, general purpose programming language to interact with machine and it is easy to use with inbuilt libraries. Python is very easy to use and it has lots of inbuilt libraries to work with, which solves most off the problem statement."
      ],
      "metadata": {
        "id": "unGUmk4o2hPo"
      }
    },
    {
      "cell_type": "code",
      "source": [],
      "metadata": {
        "id": "cvP4EDQX36Yx"
      },
      "execution_count": null,
      "outputs": []
    },
    {
      "cell_type": "markdown",
      "source": [
        "2. What is an interpretor in python ?\n",
        "\n",
        "-> Ans : Interpretor in python is the translator which translates the low level language into machine level language. It executes the code or reads the code line by line and generates the corresponding high level language."
      ],
      "metadata": {
        "id": "nMfi617R4oIG"
      }
    },
    {
      "cell_type": "code",
      "source": [],
      "metadata": {
        "id": "WVTdPiUF43ZX"
      },
      "execution_count": null,
      "outputs": []
    },
    {
      "cell_type": "markdown",
      "source": [
        "3. What are pre-defined keywords in python ?\n",
        "-> Ans : Pre-defined keywords are the reserved keywords which are defined in pythonlanguage and have spefic functions or definition attached to it and which serves specific usecase. E.g print, def, import, input etc."
      ],
      "metadata": {
        "id": "IVYEL5nV5PuC"
      }
    },
    {
      "cell_type": "code",
      "source": [],
      "metadata": {
        "id": "I_93DuKh5v7W"
      },
      "execution_count": null,
      "outputs": []
    },
    {
      "cell_type": "markdown",
      "source": [
        "4. Can keywords be used as variable name ?\n",
        "-> An : we should not use keywords as variable name as it may overwrite its original funcationality. But there is no limitation of sing keywords as variable name. we can use it."
      ],
      "metadata": {
        "id": "QRaf0l4j51FV"
      }
    },
    {
      "cell_type": "markdown",
      "source": [
        "5. What is mutability in python ?\n",
        "-> Ans : Mutability in python means re-assiging new values to exisiting variable i.e. there are many data types in python where we can reassign values to a variable once defines. e.g list is a mutable in nature but tuple iss not. List once defined can be changes but tuple can't ."
      ],
      "metadata": {
        "id": "GBRrGhvS6T6t"
      }
    },
    {
      "cell_type": "markdown",
      "source": [
        "6. Why are list mutable but tuples are immutale ?\n",
        "-> Ans : List and tuples are designed to serve specific purpose. List are designed for situation where collections of items need to be dynamic. This means, items can be added, deleted, updated once after list is created.\n",
        "Tuples are designed for situation where where a fixed collection of items is needed, and the integrity of that collection should be guaranteed once created."
      ],
      "metadata": {
        "id": "KF-nCaC3HnZT"
      }
    },
    {
      "cell_type": "code",
      "source": [],
      "metadata": {
        "id": "N_L-wN_AI4E7"
      },
      "execution_count": null,
      "outputs": []
    },
    {
      "cell_type": "markdown",
      "source": [
        "7. What is the difference between \"==\" and 'is' operator in python ?\n",
        "-> Ans : \"==\" operator is used to compare the value of the variables '==whereas \"is\" operator is used to compare the identity of two object. \"==\" operators check if content of two objects are same or not where as \"is\" operator checks if tow objects referes to same object in memory."
      ],
      "metadata": {
        "id": "Wc9cLPYDI4pF"
      }
    },
    {
      "cell_type": "markdown",
      "source": [
        "8. what are logical operators in python ?\n",
        "-> Ans : Logical operators are used to combine conditional statement in python and retuns boolean values. e.g of logical operators are AND, OR, NOT etc"
      ],
      "metadata": {
        "id": "FuR5UkiiKFtk"
      }
    },
    {
      "cell_type": "markdown",
      "source": [
        "9. What is typecasting in python ?\n",
        "-> Ans : Type casting is a method to change the data tpye of any object either implictly or explicitly. like int('2') converts string 2 to int 2"
      ],
      "metadata": {
        "id": "MopUQoLsKow8"
      }
    },
    {
      "cell_type": "markdown",
      "source": [
        "10. What is the difference between implicit and explicit type casting ?\n",
        "-> Ans : Implicit type casting is a technique where python interpretor converts one data type to another by itself, without any explicit instruction.\n",
        "Explicit type casting is a technique where programmer explicitly give instrution to convert one data type to another using built-in functions. e.g int(), float() , str() etc."
      ],
      "metadata": {
        "id": "QzcA9UCDLoRW"
      }
    },
    {
      "cell_type": "code",
      "source": [],
      "metadata": {
        "id": "IKizPPycLlCu"
      },
      "execution_count": null,
      "outputs": []
    },
    {
      "cell_type": "markdown",
      "source": [
        "11. What is the purpose of conditional statement in python ?\n",
        "-> Ans : Any conditional statement is used to control the flow of programme based on the conition given. It helps programe to make decision and execute specific block of code. e.g if, if elif ,else etc ."
      ],
      "metadata": {
        "id": "kQuroMKfMGXc"
      }
    },
    {
      "cell_type": "markdown",
      "source": [
        "12. how does the elif statement work ?\n",
        "-> Ans : elif is one of the condition statement which is used along with if. In the given condition if any IF statement / condition is not correct then it moves to next block i.e elif, and if this condition is true it executes the block and if this condition alsodoesn't satisfy, it moves to next block either next elif or else.\n",
        "e.g.\n",
        "\n",
        "if ( condition 1):\n",
        "  Execute this block\n",
        "elif ( condition 2):\n",
        "  Execute elif block\n",
        "else:\n",
        "  Execute else block\n",
        "\n",
        "in above statement, if condition 2 is true then elif block will be executed."
      ],
      "metadata": {
        "id": "utTi5v3eMu8C"
      }
    },
    {
      "cell_type": "code",
      "source": [],
      "metadata": {
        "id": "UH_shZ3bMuJj"
      },
      "execution_count": null,
      "outputs": []
    },
    {
      "cell_type": "markdown",
      "source": [
        "13. What is the difference between for and while loops ?\n",
        "-> Ans : For loop is used to iterate over a seuence of items such as List, tuple etc whereas while loop repeatadly executes a code block until condition is False. In for loop, it automatically handles the iterations but in while we need to manually handle it by increasing or decreasing the increment values.\n",
        "\n",
        "lst = [1,2,3,4]\n",
        "for i in lst:\n",
        "  print(i)\n",
        "\n",
        "----\n",
        "count =0;\n",
        "while count < 5:\n",
        "  print(count)\n",
        "  count +=1\n"
      ],
      "metadata": {
        "id": "dzoGA6CbNuCk"
      }
    },
    {
      "cell_type": "markdown",
      "source": [
        "14. Describe a scenario where while loop is more suitable than for loop ?\n",
        "-> Ans : For loop is best suited where we know the number of iterations to run in advance but when we don't know about how many iterations to run but it should run based on a condition then we should go with While loop.\n",
        "\n",
        "when are are working with fixed length objects like list, tuple, arrays where are are well know about the length of object we should go with for loop but when we are not sure about the length of theobject like reading a file lines by line and then execute the code block based on condition we shoul go with while loop. Here we are not sure at which point we have to stop iterating, it based on the conditions so we go with while loop."
      ],
      "metadata": {
        "id": "4tCifmT1PeOt"
      }
    },
    {
      "cell_type": "markdown",
      "source": [
        "#Practical Questions"
      ],
      "metadata": {
        "id": "UgOK_BHEobEm"
      }
    },
    {
      "cell_type": "code",
      "source": [
        "#1. write a python program to print \"Hello World\"\n",
        "def printHello(str):\n",
        "  print(str)\n",
        "\n",
        "printHello(\"Hello World\")"
      ],
      "metadata": {
        "colab": {
          "base_uri": "https://localhost:8080/"
        },
        "id": "aIZX_-2HPcrV",
        "outputId": "c0a93cff-5897-4d8d-c1d0-d821fb1d8ca4"
      },
      "execution_count": 3,
      "outputs": [
        {
          "output_type": "stream",
          "name": "stdout",
          "text": [
            "Hello World\n"
          ]
        }
      ]
    },
    {
      "cell_type": "code",
      "source": [
        "# 2. write a python programe that displays your name and age\n",
        "def printnameAndage(name,age):\n",
        "  print(f\"My name is {name} and my age is {age}\")\n",
        "\n",
        "printnameAndage(\"Kishan\",36)"
      ],
      "metadata": {
        "colab": {
          "base_uri": "https://localhost:8080/"
        },
        "id": "7Q7iYV4BorTQ",
        "outputId": "3a7ed4d1-e300-4fed-8d1d-7c1f321ca8cd"
      },
      "execution_count": 2,
      "outputs": [
        {
          "output_type": "stream",
          "name": "stdout",
          "text": [
            "My name is Kishan and my age is 36\n"
          ]
        }
      ]
    },
    {
      "cell_type": "code",
      "source": [
        "#3. Write a code to print all predefined keyword in python using the keyword library\n",
        "import keyword\n",
        "print(keyword.kwlist)"
      ],
      "metadata": {
        "colab": {
          "base_uri": "https://localhost:8080/"
        },
        "id": "ofv3M3h2pKUX",
        "outputId": "2e052aca-ee66-4f83-b05f-c74b998ac472"
      },
      "execution_count": 5,
      "outputs": [
        {
          "output_type": "stream",
          "name": "stdout",
          "text": [
            "['False', 'None', 'True', 'and', 'as', 'assert', 'async', 'await', 'break', 'class', 'continue', 'def', 'del', 'elif', 'else', 'except', 'finally', 'for', 'from', 'global', 'if', 'import', 'in', 'is', 'lambda', 'nonlocal', 'not', 'or', 'pass', 'raise', 'return', 'try', 'while', 'with', 'yield']\n"
          ]
        }
      ]
    },
    {
      "cell_type": "code",
      "source": [
        "#4. Write a programe that checks if a given word is python keyword\n",
        "import keyword\n",
        "def checkKeyword(str):\n",
        "  if(str in keyword.kwlist):\n",
        "    print(f\"{str} is a python keyword\")\n",
        "  else:\n",
        "    print(f\"{str} is not a python keyword\")\n",
        "\n",
        "checkKeyword(\"kishan\")\n",
        "checkKeyword(\"for\")"
      ],
      "metadata": {
        "colab": {
          "base_uri": "https://localhost:8080/"
        },
        "id": "vcyhi4ESpjLz",
        "outputId": "8e66e7cd-d164-467a-e58f-bd1a824c6871"
      },
      "execution_count": 10,
      "outputs": [
        {
          "output_type": "stream",
          "name": "stdout",
          "text": [
            "kishan is not a python keyword\n",
            "for is a python keyword\n"
          ]
        }
      ]
    },
    {
      "cell_type": "code",
      "source": [
        "#5. create a list and tuple in python and demonstrate how attempting to change an element works differently for each\n",
        "lst = list()\n",
        "tup = tuple()\n",
        "lst = [1,2,3,4,5,6]\n",
        "tup = (1,2,3,4,5,6)\n",
        "print(f\"List before change {lst}\")\n",
        "print(f\"Tuple before change {tup}\")\n",
        "lst[2]=5\n",
        "print(f\"List after change {lst}\")\n",
        "tup[2]=5\n",
        "print(tup)\n"
      ],
      "metadata": {
        "colab": {
          "base_uri": "https://localhost:8080/",
          "height": 245
        },
        "id": "N7D6lrL2qW52",
        "outputId": "0a52d562-c350-43db-9b00-82b2461be764"
      },
      "execution_count": 20,
      "outputs": [
        {
          "output_type": "stream",
          "name": "stdout",
          "text": [
            "List before change [1, 2, 3, 4, 5, 6]\n",
            "Tuple before change (1, 2, 3, 4, 5, 6)\n",
            "List after change [1, 2, 5, 4, 5, 6]\n"
          ]
        },
        {
          "output_type": "error",
          "ename": "TypeError",
          "evalue": "'tuple' object does not support item assignment",
          "traceback": [
            "\u001b[0;31m---------------------------------------------------------------------------\u001b[0m",
            "\u001b[0;31mTypeError\u001b[0m                                 Traceback (most recent call last)",
            "\u001b[0;32m<ipython-input-20-4932913f9f0e>\u001b[0m in \u001b[0;36m<cell line: 0>\u001b[0;34m()\u001b[0m\n\u001b[1;32m      8\u001b[0m \u001b[0mlst\u001b[0m\u001b[0;34m[\u001b[0m\u001b[0;36m2\u001b[0m\u001b[0;34m]\u001b[0m\u001b[0;34m=\u001b[0m\u001b[0;36m5\u001b[0m\u001b[0;34m\u001b[0m\u001b[0;34m\u001b[0m\u001b[0m\n\u001b[1;32m      9\u001b[0m \u001b[0mprint\u001b[0m\u001b[0;34m(\u001b[0m\u001b[0;34mf\"List after change {lst}\"\u001b[0m\u001b[0;34m)\u001b[0m\u001b[0;34m\u001b[0m\u001b[0;34m\u001b[0m\u001b[0m\n\u001b[0;32m---> 10\u001b[0;31m \u001b[0mtup\u001b[0m\u001b[0;34m[\u001b[0m\u001b[0;36m2\u001b[0m\u001b[0;34m]\u001b[0m\u001b[0;34m=\u001b[0m\u001b[0;36m5\u001b[0m\u001b[0;34m\u001b[0m\u001b[0;34m\u001b[0m\u001b[0m\n\u001b[0m\u001b[1;32m     11\u001b[0m \u001b[0mprint\u001b[0m\u001b[0;34m(\u001b[0m\u001b[0mtup\u001b[0m\u001b[0;34m)\u001b[0m\u001b[0;34m\u001b[0m\u001b[0;34m\u001b[0m\u001b[0m\n",
            "\u001b[0;31mTypeError\u001b[0m: 'tuple' object does not support item assignment"
          ]
        }
      ]
    },
    {
      "cell_type": "code",
      "source": [
        "#6 Write a function to demonstrate the behaviour of mutable and immutable arguments\n",
        "def demonstratemutability(mutable, immutable):\n",
        "  print(f\"printing mutable values before chage {mutable}\")\n",
        "  print(f\"printing immutable values before chage {immutable}\")\n",
        "  mutable[2] = 5\n",
        "  immutable += 5\n",
        "  print(f\"printing mutable values after chage {mutable}\")\n",
        "  print(f\"printing immutable values after chage {immutable}\")  # it doesnot modify existing values but creates a new value\n",
        "\n",
        "\n",
        "demonstratemutability([1,2,3],19)"
      ],
      "metadata": {
        "colab": {
          "base_uri": "https://localhost:8080/"
        },
        "id": "ehDi13_lqt_k",
        "outputId": "916ffa9d-8733-4a10-a963-c0619352eef6"
      },
      "execution_count": 24,
      "outputs": [
        {
          "output_type": "stream",
          "name": "stdout",
          "text": [
            "printing mutable values before chage [1, 2, 3]\n",
            "printing immutable values before chage 19\n",
            "printing mutable values after chage [1, 2, 5]\n",
            "printing immutable values after chage 24\n"
          ]
        }
      ]
    },
    {
      "cell_type": "code",
      "source": [
        "#7. Write a program that performs basic arithematic operations on user-input numbers\n",
        "\n",
        "number1 = int(input(\"Enter first number\"))\n",
        "number2 = int(input(\"Enter second number\"))\n",
        "\n",
        "def add(num1 , num2):\n",
        "  return num1 + num2\n",
        "\n",
        "print(f\"Addition of {number1} and {number2} is {add(number1,number2)}\")\n",
        "\n"
      ],
      "metadata": {
        "colab": {
          "base_uri": "https://localhost:8080/"
        },
        "id": "DW_HNOM8tfK_",
        "outputId": "7be54bca-be1a-4b67-9744-81d3aa7752e6"
      },
      "execution_count": 26,
      "outputs": [
        {
          "output_type": "stream",
          "name": "stdout",
          "text": [
            "Enter first number43\n",
            "Enter second number33\n",
            "Addition of 43 and 33 is 76\n"
          ]
        }
      ]
    },
    {
      "cell_type": "code",
      "source": [
        "#8. Write a programe to demonstrate the use of logical operators\n",
        "x =21\n",
        "y = 43\n",
        "\n",
        "print(x > 5 and y <50)  # print True if both condition True else False\n",
        "print(x > 5 or y <5)   # print True if any one condition True else False\n",
        "print(x > 5 or y <50)   # print True if any condition True else False\n",
        "print(x > 5 and y <5)   # print True if both condition True else False"
      ],
      "metadata": {
        "colab": {
          "base_uri": "https://localhost:8080/"
        },
        "id": "8c66pxhfugVP",
        "outputId": "619e44e3-cf97-40f0-e110-aa225fcba3f5"
      },
      "execution_count": 30,
      "outputs": [
        {
          "output_type": "stream",
          "name": "stdout",
          "text": [
            "True\n",
            "True\n",
            "True\n",
            "False\n"
          ]
        }
      ]
    },
    {
      "cell_type": "code",
      "source": [
        "#9. Write a programe to convert user input from string to int, float, and boolean type\n",
        "stringval = input(\"Enter a string value\")\n",
        "intval = int(input(\"Enter a Int value\"))\n",
        "floatval = float(input(\"Enter a Flaot value\"))\n",
        "boolval = bool(input(\"Enter a Boolean value\"))\n",
        "print(f\"String value is {stringval} and type is {type(stringval)}\")\n",
        "print(f\"Integer value is {intval} and type is {type(intval)}\")\n",
        "print(f\"Float value is {floatval} and type is {type(floatval)}\")\n",
        "print(f\"Boolean value is {boolval} and type is {type(boolval)}\")"
      ],
      "metadata": {
        "colab": {
          "base_uri": "https://localhost:8080/"
        },
        "id": "r3LrlOILugA7",
        "outputId": "ba74c5e3-83bb-4abe-b019-5edf50725592"
      },
      "execution_count": 32,
      "outputs": [
        {
          "output_type": "stream",
          "name": "stdout",
          "text": [
            "Enter a string valuekishan\n",
            "Enter a Int value23\n",
            "Enter a Flaot value23.5\n",
            "Enter a Boolean valueTrue\n",
            "String value is kishan and type is <class 'str'>\n",
            "Integer value is 23 and type is <class 'int'>\n",
            "Float value is 23.5 and type is <class 'float'>\n",
            "Boolean value is True and type is <class 'bool'>\n"
          ]
        }
      ]
    },
    {
      "cell_type": "code",
      "source": [
        "#10. Write a code to demonstrate type casting with list element\n",
        "# Convert a list of strings to integers\n",
        "string_list = [\"1\", \"2\", \"3\", \"4\"]\n",
        "integer_list = [int(item) for item in string_list]\n",
        "print(f\"Original list (strings): {string_list}\")\n",
        "print(f\"Converted list (integers): {integer_list}\")\n",
        "\n",
        "# Convert a list of integers to floats\n",
        "integer_numbers = [10, 20, 30]\n",
        "float_numbers = [float(num) for num in integer_numbers]\n",
        "print(f\"Original list (integers): {integer_numbers}\")\n",
        "print(f\"Converted list (floats): {float_numbers}\")"
      ],
      "metadata": {
        "colab": {
          "base_uri": "https://localhost:8080/"
        },
        "id": "QnliY1ezwK9t",
        "outputId": "e10c9ae8-b6b9-4037-f3ad-b73d152ac08e"
      },
      "execution_count": 1,
      "outputs": [
        {
          "output_type": "stream",
          "name": "stdout",
          "text": [
            "Original list (strings): ['1', '2', '3', '4']\n",
            "Converted list (integers): [1, 2, 3, 4]\n",
            "Original list (integers): [10, 20, 30]\n",
            "Converted list (floats): [10.0, 20.0, 30.0]\n"
          ]
        }
      ]
    },
    {
      "cell_type": "code",
      "source": [
        "#11. write a program  that checks if a number is negative,positive or 0\n",
        "def checkNumber(num):\n",
        "  if(num > 0):\n",
        "    print(f\"{num} is a positive number\")\n",
        "  elif(num < 0):\n",
        "    print(f\"{num} is a negative number\")\n",
        "  else:\n",
        "    print(f\"{num} is zero\")\n",
        "\n",
        "checkNumber(0)\n",
        "checkNumber(-1)\n",
        "checkNumber(1)"
      ],
      "metadata": {
        "colab": {
          "base_uri": "https://localhost:8080/"
        },
        "id": "aF-HaXmv_Hky",
        "outputId": "3a194ee8-3504-4aa9-e776-372ea718432f"
      },
      "execution_count": 4,
      "outputs": [
        {
          "output_type": "stream",
          "name": "stdout",
          "text": [
            "0 is zero\n",
            "-1 is a negative number\n",
            "1 is a positive number\n"
          ]
        }
      ]
    },
    {
      "cell_type": "code",
      "source": [
        "#12 .Write a for loop to print numbers from 1 to 10\n",
        "for i in range(1,11):\n",
        "  print(i)\n",
        "###################\n",
        "count =1\n",
        "while count < 11:\n",
        "  print(f\"print from while loop {count}\")\n",
        "  count+=1\n"
      ],
      "metadata": {
        "colab": {
          "base_uri": "https://localhost:8080/"
        },
        "id": "sZ2D3mmM_0vW",
        "outputId": "d28ce1db-ea5a-4922-8aff-e8333deb92b9"
      },
      "execution_count": 12,
      "outputs": [
        {
          "output_type": "stream",
          "name": "stdout",
          "text": [
            "1\n",
            "2\n",
            "3\n",
            "4\n",
            "5\n",
            "6\n",
            "7\n",
            "8\n",
            "9\n",
            "10\n",
            "print from while loop 1\n",
            "print from while loop 2\n",
            "print from while loop 3\n",
            "print from while loop 4\n",
            "print from while loop 5\n",
            "print from while loop 6\n",
            "print from while loop 7\n",
            "print from while loop 8\n",
            "print from while loop 9\n",
            "print from while loop 10\n"
          ]
        }
      ]
    },
    {
      "cell_type": "code",
      "source": [
        "# 13 write a pythn program to find the sum of all even numbers between 1 to 50\n",
        "def findevennumbersum(n):\n",
        "  sum=0\n",
        "  for i in range(0,n,2):\n",
        "    sum+=i\n",
        "  return sum\n",
        "\n",
        "print(findevennumbersum(51))"
      ],
      "metadata": {
        "colab": {
          "base_uri": "https://localhost:8080/"
        },
        "id": "Nj5HSSQlAGNQ",
        "outputId": "15483f0c-74a2-4e96-cb62-1f526f01594c"
      },
      "execution_count": 23,
      "outputs": [
        {
          "output_type": "stream",
          "name": "stdout",
          "text": [
            "650\n"
          ]
        }
      ]
    },
    {
      "cell_type": "code",
      "source": [
        "#14 write a programe to reverse the string using while loop\n",
        "str = input(\"Enter a string: \")\n",
        "l = len(str)-1\n",
        "while l >=0:\n",
        "  print(str[l])\n",
        "  l = l-1\n"
      ],
      "metadata": {
        "colab": {
          "base_uri": "https://localhost:8080/"
        },
        "id": "v6iAub2uCR_p",
        "outputId": "c27e8968-5f25-49a9-eb74-e98dde4ef5de"
      },
      "execution_count": 33,
      "outputs": [
        {
          "output_type": "stream",
          "name": "stdout",
          "text": [
            "Enter a string: abcde\n",
            "e\n",
            "d\n",
            "c\n",
            "b\n",
            "a\n"
          ]
        }
      ]
    },
    {
      "cell_type": "code",
      "source": [
        "#15 Write a python programe to calculate the actorial of a number provided by the user using a while loop\n",
        "num = int(input(\"Enter a number to find factorial: \"))\n",
        "i=num\n",
        "result = 1\n",
        "if num ==0:\n",
        "  result=1\n",
        "  print(f\"Factorial of {i} is : {result}\")\n",
        "elif num < 0:\n",
        "  print(\"Factorial for negative number is not possible\")\n",
        "else:\n",
        "  while num > 0:\n",
        "    result = result * num\n",
        "    num = num-1\n",
        "  print(f\"Factorial of {i} is : {result}\")\n"
      ],
      "metadata": {
        "colab": {
          "base_uri": "https://localhost:8080/"
        },
        "id": "9TIlLLUHDtAn",
        "outputId": "efd2678e-48b2-4d49-9d40-f79e457665cb"
      },
      "execution_count": 64,
      "outputs": [
        {
          "output_type": "stream",
          "name": "stdout",
          "text": [
            "Enter a number to find factorial: 4\n",
            "Factorial of 4 is : 24\n"
          ]
        }
      ]
    },
    {
      "cell_type": "code",
      "source": [],
      "metadata": {
        "id": "JWlEJt98HQh2"
      },
      "execution_count": 49,
      "outputs": []
    }
  ]
}