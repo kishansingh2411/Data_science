{
  "nbformat": 4,
  "nbformat_minor": 0,
  "metadata": {
    "colab": {
      "provenance": [],
      "authorship_tag": "ABX9TyMl5Az+X9aIB7DAsWBiWlnS",
      "include_colab_link": true
    },
    "kernelspec": {
      "name": "python3",
      "display_name": "Python 3"
    },
    "language_info": {
      "name": "python"
    }
  },
  "cells": [
    {
      "cell_type": "markdown",
      "metadata": {
        "id": "view-in-github",
        "colab_type": "text"
      },
      "source": [
        "<a href=\"https://colab.research.google.com/github/kishansingh2411/Data_science/blob/main/Python_Datatypes_and_Structure.ipynb\" target=\"_parent\"><img src=\"https://colab.research.google.com/assets/colab-badge.svg\" alt=\"Open In Colab\"/></a>"
      ]
    },
    {
      "cell_type": "markdown",
      "source": [
        "**Theoratical questions and Answers**"
      ],
      "metadata": {
        "id": "kwRROOXDLjOP"
      }
    },
    {
      "cell_type": "markdown",
      "source": [
        "1. What are data structures, and why are they important ?\n",
        "  \n",
        "  -->Ans :  Data strutures are the way of storing and organising data. With the help of data structure, its easy to acess, arange , manupulate data in most efficient way. e.g List, tuple , set, Dictionary"
      ],
      "metadata": {
        "id": "654HpAt1L6ok"
      }
    },
    {
      "cell_type": "markdown",
      "source": [
        "2. Explain the difference between mutable and immutable data types with examples ?\n",
        "\n",
        "  --> Ans : Mutable data types are the data types which can be edited/modified ater creation. Values of the data type can be changed .\n",
        "  e.g  List, Dictionary etc\n",
        "  Immutable data types are the data type which can not be edited/modified once created. Values of those data types can nt be changed.\n",
        "  e.g. Tuple, string etc"
      ],
      "metadata": {
        "id": "tfnUyAkKLwhI"
      }
    },
    {
      "cell_type": "markdown",
      "source": [
        "3. What are the main differences between lists and tuples in Python ?\n",
        "\n",
        "  --> Ans : The main difference between list and tuple lies between their nature of mutability. Lists are mutable in nature but tuples are immutable."
      ],
      "metadata": {
        "id": "4nGh1TJDLwe8"
      }
    },
    {
      "cell_type": "markdown",
      "source": [
        "4. Describe how dictionaries store data ?\n",
        "\n",
        "  --> Ans : Dictionaries are the mutable data types in Python, which stores data in key values pair. Data is stored in terms of key value pair and can be accessed/used based on key.\n",
        "  e.g. my_dict = {'Key1':'Value1', 'key2':'value2','key3':1234}"
      ],
      "metadata": {
        "id": "VWrbJo-eLwcP"
      }
    },
    {
      "cell_type": "markdown",
      "source": [
        "5. Why might you use a set instead of a list in Python ?\n",
        "\n",
        "  --> Ans : The main difference between list and set is that set stores unique element / data in it whereas list stores all element in ordered manner. So when we need only unique element from a list of elements then we shuld use set.\n",
        "  \n",
        "  list = [1,1,2,3,3,3,4]\n",
        "  set = {1,2,3,4}"
      ],
      "metadata": {
        "id": "m-SclUwyONLP"
      }
    },
    {
      "cell_type": "markdown",
      "source": [
        "6.What is a string in Python, and how is it different from a list ?\n",
        "\n",
        "  --> Ans : String is a datatype which stores element in string literal. All element present in this datastructre is treated as string literals and strings are immutable in nature. String methods do not modify itself but returns a new string.\n",
        "  Lists are collection of elements in ordered manner and mutable in nature. List can store multiple data type element in itself like in 1 list it can have data ith strig, integer, boolean etc. Lists method modify the original list.\n",
        "\n",
        "  String = \"Kishan\"\n",
        "  \n",
        "  List = [\"kishan\",1,45.5, True]\n"
      ],
      "metadata": {
        "id": "HsfAfZbvOP8J"
      }
    },
    {
      "cell_type": "markdown",
      "source": [
        "7.How do tuples ensure data integrity in Python ?\n",
        "\n",
        "  --> Ans : Tuples are the collection of elements of same or different data types which are immutable in nature. Tuples once created its content can not be modified neither the element nor the size of tuple."
      ],
      "metadata": {
        "id": "TZFh5pkyOP5E"
      }
    },
    {
      "cell_type": "markdown",
      "source": [
        "8.What is a hash table, and how does it relate to dictionaries in Python ?\n",
        "  \n",
        "  --> Ans: A hash table stores data in key-value pair and key is generated using a hashing method. Data in tables can be access using keys. In similar ways, dictionaries in python stores data in key-value pair and data can be accessed using keys of dictionary."
      ],
      "metadata": {
        "id": "lA9XLTTwOP13"
      }
    },
    {
      "cell_type": "markdown",
      "source": [
        "9.Can lists contain different data types in Python ?\n",
        "\n",
        "  --> Ans: yes, List can contain different data types.\n",
        "  \n",
        "  e.g List = [\"a\",1,2.3,True]"
      ],
      "metadata": {
        "id": "J-RLzTwjOPxr"
      }
    },
    {
      "cell_type": "code",
      "source": [],
      "metadata": {
        "id": "fVpwtvbH4Ibs"
      },
      "execution_count": null,
      "outputs": []
    },
    {
      "cell_type": "markdown",
      "source": [
        "10.Explain why strings are immutable in Python ?\n",
        "\n",
        "  --> Ans : There are can be many reasons for immutable nature of strinig:\n",
        "      \n",
        "      1. Immutability ensures that original data remains unchanched so that accidental data manupulation can be avoided like in case of passing string as arguments in methods\n",
        "      \n",
        "      2. Immutability ensures more memory efficient while storing and accessing data.\n",
        "      \n",
        "      3. Strings are used as dictionaries keys, so if strigns are not immutable than it may corrupt dictionaries o r it woul be difficult to store dictionaries in memory with varying keys.\n",
        "      \n",
        "      4. since python uses a multi-threading concept, so strings can be used by many threads without a fear of modification by any threads."
      ],
      "metadata": {
        "id": "26L-7RhvOPu5"
      }
    },
    {
      "cell_type": "markdown",
      "source": [
        "11. What advantages do dictionaries offer over lists for certain tasks?\n",
        "\n",
        "--> Ans: Dictionary stores data in the form of key value pair whereas list only stores the item in ordered manner. Lists perform faster for ordered operations like sorting, while dictionaries perform faster for lookup operations. With the help of key we can access any element of the dictionary without knowing its index but in list index of the element is required to access any element."
      ],
      "metadata": {
        "id": "OjhJa7fpOPnI"
      }
    },
    {
      "cell_type": "markdown",
      "source": [
        "12. Describe a scenario where using a tuple would be preferable over a list?\n",
        "\n",
        "-->Ans: List and tuple both stores data in ordered manner but only difference is its mutability. Lists are mutable but tuples are immutable. Tuples are used in the senario where elementsdata stored does not hange frequently.  "
      ],
      "metadata": {
        "id": "JsadWfs0OPTt"
      }
    },
    {
      "cell_type": "markdown",
      "source": [
        "13. How do sets handle duplicate values in Python?\n",
        "\n",
        "--> ans: Sets are unordered collection of unique elements. The difference between list and sets are that in list we can have duplicate elements but in sets we can't have duplicate elements. All duplicate elements will be removed and only unique element will be present in set.\n",
        "\n",
        "lst = [1,2,2,3,3,4,4,4,5]\n",
        "\n",
        "set = {1,2,3,4,5}"
      ],
      "metadata": {
        "id": "oH5JI2m-OOtJ"
      }
    },
    {
      "cell_type": "markdown",
      "source": [
        "14.How does the “in” keyword work differently for lists and dictionaries?\n",
        "\n",
        "-->Ans: In lists we can have duplicate elements but in disctionary keys are always unique and we can't have duplicate elements. All duplicate elements will be removed and only unique element will be present in keys of dictionary. So when working with \"in\" operators, in list may take extra time as it has duplicate values but in dictionary, \"in\" operators works on keys, which is a unique combination of elements."
      ],
      "metadata": {
        "id": "gyJsJKVR6jZU"
      }
    },
    {
      "cell_type": "markdown",
      "source": [
        "15.Can you modify the elements of a tuple? Explain why or why not ?\n",
        "\n",
        "-->Ans: Tuple is immutable in nature, means once created tuple value can't be changed.  Tuples are immutable data structures, meaning their contents cannot be changed, added to, or removed from once they are defined."
      ],
      "metadata": {
        "id": "Np6eFe2D6jWs"
      }
    },
    {
      "cell_type": "markdown",
      "source": [
        "16. What is a nested dictionary, and give an example of its use case ?\n",
        "\n",
        "-->Ans: As name describes, nested dictionary is dictionary inside dictionay. It's a collection of dictionaries into one single dictionary. e.g . Storing personal information of any employee we can use nested dictionay.\n",
        "\n",
        "emp1oyee= \"emp_id1\":{\"name\":\"kishan\", \"address\":{\"city\":\"Begusarai\",\"State\":\"Bihar\", \"Pin\":851134}}"
      ],
      "metadata": {
        "id": "ORQPAX466jT5"
      }
    },
    {
      "cell_type": "markdown",
      "source": [
        "17.Describe the time complexity of accessing elements in a dictionary ?\n",
        "\n",
        "-->Ans: Accessing the element in dictionary is based on keys. Its working on the principal of hashtable which does a lookup based on keys. it means its complexity is o(1), which means, regardless of size of dictionary, it will take same time to search the keys in dictionary."
      ],
      "metadata": {
        "id": "9_CEGqEZ6jRH"
      }
    },
    {
      "cell_type": "markdown",
      "source": [
        "18.In what situations are lists preferred over dictionaries ?\n",
        "\n",
        "-->Ans: Lists are preferred where order of execution of elements matters. when we want any task to be performed in an ordered manner then we can go with lists. Dictionaries are good in situations where we have key value pair or unique identifier is requeired.\n"
      ],
      "metadata": {
        "id": "OzPf4otI6jOq"
      }
    },
    {
      "cell_type": "markdown",
      "source": [
        "19.Why are dictionaries considered unordered, and how does that affect data retrieval ?\n",
        "\n",
        "-->Ans: Dictionaries are unordered collection of data in key-value pair. we don't pull data from dictionary based on index of element like lists. elements in lists can only be pulled based on keys. since we pull based in keys so retrueval is muc faster than list in dictionay.\n",
        ""
      ],
      "metadata": {
        "id": "XpVjYYwH6jJl"
      }
    },
    {
      "cell_type": "markdown",
      "source": [
        "20. Explain the difference between a list and a dictionary in terms of data retrieval?\n",
        "\n",
        "-->Ans: in List data is retrieved based on the index of the list but in case of dictionary, data retrieval is based on keys. in list, if size if list increases the retrieval time may also increase but in dictionary, retrieval time doesn't change based on the size of dictionary."
      ],
      "metadata": {
        "id": "1iVaqtoV6jGw"
      }
    },
    {
      "cell_type": "markdown",
      "source": [
        "**Practical Questions**"
      ],
      "metadata": {
        "id": "8UNVQk9O6jD2"
      }
    },
    {
      "cell_type": "code",
      "source": [
        "#1.DP Write a code to create a string with your name and print it ?\n",
        "str=\"kishan\"\n",
        "print(str)"
      ],
      "metadata": {
        "colab": {
          "base_uri": "https://localhost:8080/"
        },
        "id": "QxgHyZ02_in3",
        "outputId": "4ee34bb7-3e02-4a08-a060-6e5532a3fd7c"
      },
      "execution_count": 1,
      "outputs": [
        {
          "output_type": "stream",
          "name": "stdout",
          "text": [
            "kishan\n"
          ]
        }
      ]
    },
    {
      "cell_type": "code",
      "source": [
        "#2.Write a code to find the length of the string \"Hello World\"\n",
        "l=len(\"Hello World\")\n",
        "print(l)"
      ],
      "metadata": {
        "colab": {
          "base_uri": "https://localhost:8080/"
        },
        "id": "PVA376UK_raD",
        "outputId": "e0ca5e93-58f1-4e8a-e0f6-eca88f74eb74"
      },
      "execution_count": 2,
      "outputs": [
        {
          "output_type": "stream",
          "name": "stdout",
          "text": [
            "11\n"
          ]
        }
      ]
    },
    {
      "cell_type": "code",
      "source": [
        "#3.Write a code to slice the first 3 characters from the string \"Python Programming\"\n",
        "str=\"Python Programming\"\n",
        "print(str[3:])\n",
        "print(str[0:3])"
      ],
      "metadata": {
        "colab": {
          "base_uri": "https://localhost:8080/"
        },
        "id": "dQ7Q1UZ2_3i_",
        "outputId": "70f1760a-9df2-4d7e-a189-9fb3aea90e25"
      },
      "execution_count": 5,
      "outputs": [
        {
          "output_type": "stream",
          "name": "stdout",
          "text": [
            "hon Programming\n",
            "Pyt\n"
          ]
        }
      ]
    },
    {
      "cell_type": "code",
      "source": [
        "#4.Write a code to convert the string \"hello\" to uppercase\n",
        "str=\"hello\"\n",
        "print(str.upper())"
      ],
      "metadata": {
        "colab": {
          "base_uri": "https://localhost:8080/"
        },
        "id": "f3gieqQVAF6M",
        "outputId": "63825cb9-8371-49a7-fa9e-8b75004a61ef"
      },
      "execution_count": 6,
      "outputs": [
        {
          "output_type": "stream",
          "name": "stdout",
          "text": [
            "HELLO\n"
          ]
        }
      ]
    },
    {
      "cell_type": "code",
      "source": [
        "#5 Write a code to replace the word \"apple\" with \"orange\" in the string \"I like apple\"\n",
        "str=\"I like apple\"\n",
        "print(f\"old string: {str}\")\n",
        "print(f\"new string: {str.replace('apple','orange')}\")"
      ],
      "metadata": {
        "colab": {
          "base_uri": "https://localhost:8080/"
        },
        "id": "QmM06jIBAa0R",
        "outputId": "5ed19e08-d249-4b5a-bf98-99510aad41c8"
      },
      "execution_count": 10,
      "outputs": [
        {
          "output_type": "stream",
          "name": "stdout",
          "text": [
            "old string: I like apple\n",
            "new string: I like orange\n"
          ]
        }
      ]
    },
    {
      "cell_type": "code",
      "source": [
        "#6. Write a code to create a list with numbers 1 to 5 and print it\n",
        "lst=[1,2,3,4,5]\n",
        "lst1 = list(range(1,6))\n",
        "print(lst)\n",
        "print(lst1)"
      ],
      "metadata": {
        "colab": {
          "base_uri": "https://localhost:8080/"
        },
        "id": "DMYpQTrRAp30",
        "outputId": "2dd5aa27-b3fd-46d0-d397-d905d2062a57"
      },
      "execution_count": 12,
      "outputs": [
        {
          "output_type": "stream",
          "name": "stdout",
          "text": [
            "[1, 2, 3, 4, 5]\n",
            "[1, 2, 3, 4, 5]\n"
          ]
        }
      ]
    },
    {
      "cell_type": "code",
      "source": [
        "#7.Write a code to append the number 10 to the list [1, 2, 3, 4]\n",
        "lst=[1,2,3,4]\n",
        "lst.append(10)\n",
        "print(lst)\n"
      ],
      "metadata": {
        "colab": {
          "base_uri": "https://localhost:8080/"
        },
        "id": "O2kcXy3LBKgT",
        "outputId": "fd0b9897-ad38-4f7a-9694-c8bebf3ecb12"
      },
      "execution_count": 14,
      "outputs": [
        {
          "output_type": "stream",
          "name": "stdout",
          "text": [
            "[1, 2, 3, 4, 10]\n"
          ]
        }
      ]
    },
    {
      "cell_type": "code",
      "source": [
        "#8. Write a code to remove the number 3 from the list [1, 2, 3, 4, 5]\n",
        "lst=[1,2,3,4,5]\n",
        "lst.remove(3)\n",
        "print(lst)"
      ],
      "metadata": {
        "colab": {
          "base_uri": "https://localhost:8080/"
        },
        "id": "n_ad_iemBa0y",
        "outputId": "8577024d-caed-4839-c9fb-6502205ae338"
      },
      "execution_count": 15,
      "outputs": [
        {
          "output_type": "stream",
          "name": "stdout",
          "text": [
            "[1, 2, 4, 5]\n"
          ]
        }
      ]
    },
    {
      "cell_type": "code",
      "source": [
        "#9. Write a code to access the second element in the list ['a', 'b', 'c', 'd']\n",
        "lst= ['a', 'b', 'c', 'd']\n",
        "print(lst[1])"
      ],
      "metadata": {
        "colab": {
          "base_uri": "https://localhost:8080/"
        },
        "id": "fgalCNTXBs_A",
        "outputId": "534eb546-be24-4cf0-930f-411b8db232e1"
      },
      "execution_count": 17,
      "outputs": [
        {
          "output_type": "stream",
          "name": "stdout",
          "text": [
            "b\n"
          ]
        }
      ]
    },
    {
      "cell_type": "code",
      "source": [
        "#10. Write a code to reverse the list [10, 20, 30, 40, 50]\n",
        "lst=[10,20,30,40,50]\n",
        "lst1=[10,20,30,40,50]\n",
        "lst.reverse()\n",
        "print(lst)\n",
        "print(lst1[::-1])"
      ],
      "metadata": {
        "colab": {
          "base_uri": "https://localhost:8080/"
        },
        "id": "b5_ZvxtcB5we",
        "outputId": "471ccf84-6b89-4bde-998a-2ae6b6205254"
      },
      "execution_count": 19,
      "outputs": [
        {
          "output_type": "stream",
          "name": "stdout",
          "text": [
            "[50, 40, 30, 20, 10]\n",
            "[50, 40, 30, 20, 10]\n"
          ]
        }
      ]
    },
    {
      "cell_type": "code",
      "source": [],
      "metadata": {
        "id": "E7maTa69CChV"
      },
      "execution_count": null,
      "outputs": []
    }
  ]
}